{
 "cells": [
  {
   "cell_type": "markdown",
   "id": "2f1d173c",
   "metadata": {},
   "source": [
    "# Merk at dette bare er et _løsningsforslag_. Det finnes mange forskjellige måter å løse oppgavene på."
   ]
  },
  {
   "cell_type": "markdown",
   "id": "a46b2b3c",
   "metadata": {},
   "source": [
    "# Yatzy, del (a): tilfeldig kast\n",
    "\n",
    "I denne oppgaven skal du skrive noen funksjoner til spillet Yatzy. I Yatzy spiller man med 5 terninger der målet er å få høyest poengsum på ulike sammensetninger av terninger som ett par, to par, tre like, fire like, liten straight, stor straight, hus, sjanse og yatzy."
   ]
  },
  {
   "cell_type": "markdown",
   "id": "42a8e5d9",
   "metadata": {},
   "source": [
    "**(a)** Skriv en funksjon throw(n). Funksjonen har som parameter antall terninger som skal kastes (int) og skal returnere en liste med heltall som viser de verdiene terningene tilfeldigvis fikk. Eksempel på kjøring:"
   ]
  },
  {
   "cell_type": "markdown",
   "id": "fa7d5c87",
   "metadata": {},
   "source": [
    "```shell\n",
    ">>> throw(5)\n",
    "\n",
    "[2, 1, 5, 6, 1]\n",
    "\n",
    ">>> throw(2)\n",
    "\n",
    "[5, 5]\n",
    "\n",
    ">>> throw(1)\n",
    "\n",
    "[2]\n",
    "```\n",
    "\n",
    "NB: tallene som returneres skal trekkes tilfeldig, det må ikke være faste tall som du finner på."
   ]
  },
  {
   "cell_type": "code",
   "execution_count": 1,
   "id": "eaa0e17b",
   "metadata": {},
   "outputs": [],
   "source": [
    "from random import randint\n",
    "\n",
    "def throw(n):\n",
    "    tilfeldige_tall = []\n",
    "    for i in range(n):\n",
    "        tilfeldige_tall.append(randint(1, 6))\n",
    "    return tilfeldige_tall\n",
    "\n",
    "# Eventuelt\n",
    "def throw2(n):\n",
    "    return [randint(1, 6) for _ in range(n)]"
   ]
  },
  {
   "cell_type": "markdown",
   "id": "ee220e8b",
   "metadata": {},
   "source": [
    "Test:"
   ]
  },
  {
   "cell_type": "code",
   "execution_count": 2,
   "id": "fb329672",
   "metadata": {},
   "outputs": [
    {
     "name": "stdout",
     "output_type": "stream",
     "text": [
      "[2, 3, 3, 6, 3]\n",
      "[2, 1]\n",
      "[4]\n"
     ]
    }
   ],
   "source": [
    "print(throw(5))\n",
    "print(throw(2))\n",
    "print(throw(1))"
   ]
  },
  {
   "cell_type": "markdown",
   "id": "fdbada1e",
   "metadata": {},
   "source": [
    "**(b)** Lag en funksjon for å beregne score på \"sjanse\" i Yatzy, som rett og slett er summen av de fem terningene man har kastet. Funksjonen **chance()** skal ha parameteren **dice** som er en liste med fem terningverdier (int) i området 1 - 6. Funksjonen skal returnere summen av tallene. **NB: I denne spesielle oppgaven er det ikke lov å bruke den innebygde funksjonen sum() for å finne summen av tallene i lista, det skal skrives en løkke som går gjennom lista og legger til ett og ett tall.**\n",
    "Eksempel på kjøring:"
   ]
  },
  {
   "cell_type": "markdown",
   "id": "20d8093a",
   "metadata": {},
   "source": [
    "```shell\n",
    ">>> chance([5, 2, 6, 3, 3])\n",
    "\n",
    "19\n",
    "\n",
    ">>> chance([3, 1, 6, 1, 6])\n",
    "\n",
    "17\n",
    "```"
   ]
  },
  {
   "cell_type": "code",
   "execution_count": 3,
   "id": "a7006781",
   "metadata": {},
   "outputs": [],
   "source": [
    "def chance(dice):\n",
    "    summen = 0\n",
    "    for elem in dice:\n",
    "        summen += elem\n",
    "    return summen"
   ]
  },
  {
   "cell_type": "markdown",
   "id": "9f2cd585",
   "metadata": {},
   "source": [
    "Test:"
   ]
  },
  {
   "cell_type": "code",
   "execution_count": 4,
   "id": "cbe02d2c",
   "metadata": {},
   "outputs": [
    {
     "name": "stdout",
     "output_type": "stream",
     "text": [
      "19\n",
      "17\n"
     ]
    }
   ],
   "source": [
    "print(chance([5, 2, 6, 3, 3]))\n",
    "print(chance([3, 1, 6, 1, 6]))"
   ]
  },
  {
   "cell_type": "markdown",
   "id": "1bd86190",
   "metadata": {},
   "source": [
    "**c)** I terningspillet Yatzy er \"yatzy\" hvis man får samme tall på alle de 5 terningene. Lag en funksjon **yatzy(dice)** som returnerer 75 hvis man har 5 seksere, 50 hvis man har fem like av et lavere tall enn 6, og 0 hvis man ikke har fem like.\n",
    "\n",
    "Test cases:\n",
    "\n",
    "| Test case # | Input       | Forventet output |\n",
    "|-------------|-------------|------------------|\n",
    "| 1           | [6,6,6,6,6] | 75               |\n",
    "| 2           | [3,3,3,3,3] | 50               |\n",
    "| 3           | [3,3,3,3,2] | 0                |"
   ]
  },
  {
   "cell_type": "code",
   "execution_count": 5,
   "id": "9a4fb21d",
   "metadata": {},
   "outputs": [],
   "source": [
    "def yatzy(dice):\n",
    "    if len(dice) != 5: # Tilfelle vi ikke har 5 terninger. Det er da ugyldig\n",
    "        return -1\n",
    "    \n",
    "    dice = set(dice)\n",
    "    if len(dice) == 1:\n",
    "        if 6 in dice:\n",
    "            return 75\n",
    "        return 50\n",
    "    return 0    "
   ]
  },
  {
   "cell_type": "markdown",
   "id": "32367342",
   "metadata": {},
   "source": [
    "Test:"
   ]
  },
  {
   "cell_type": "code",
   "execution_count": 6,
   "id": "603dcb78",
   "metadata": {},
   "outputs": [
    {
     "name": "stdout",
     "output_type": "stream",
     "text": [
      "75\n",
      "50\n",
      "0\n",
      "50\n",
      "50\n",
      "50\n",
      "50\n"
     ]
    }
   ],
   "source": [
    "print(yatzy([6,6,6,6,6]))\n",
    "print(yatzy([3,3,3,3,3]))\n",
    "print(yatzy([3,3,3,3,2]))\n",
    "print(yatzy([5,5,5,5,5]))\n",
    "print(yatzy([4,4,4,4,4]))\n",
    "print(yatzy([2,2,2,2,2]))\n",
    "print(yatzy([1,1,1,1,1]))"
   ]
  },
  {
   "cell_type": "markdown",
   "id": "95d5d915",
   "metadata": {},
   "source": [
    "**d)** I yatzy er \"liten straight\" hvis man på de 5 terningene har fått tallene 1, 2, 3, 4, 5 og \"stor straight\" er hvis man har fått tallene 2, 3, 4, 5, 6.\n",
    "\n",
    "**Oppgave:** Lag en funksjon **straight(dice)** som får inn som parameter ei liste med fem heltall, og som returnerer tallet 15 hvis det er liten straight, 20 hvis det er stor straight, 0 hvis det verken er liten eller stor straight. Merk: Tallene kan komme i tilfeldig rekkefølge i lista som kommer inn som parameter.\n",
    "\n",
    "Test cases:\n",
    "\n",
    "| Test case # | Input       | Forventet output |\n",
    "|-------------|-------------|------------------|\n",
    "| 1           | [1, 2, 3, 4, 5] | 15               |\n",
    "| 2           | [5, 2, 3, 1, 4] | 15               |\n",
    "| 3           | [2, 3, 4, 5, 6] | 20                |\n",
    "| 4           | [3,  2, 5, 4, 6] | 20                |\n",
    "| 5           | [1, 2, 3, 4, 6] | 0                |\n"
   ]
  },
  {
   "cell_type": "code",
   "execution_count": 7,
   "id": "365778f6",
   "metadata": {},
   "outputs": [],
   "source": [
    "def straight(dice):\n",
    "    liten = [1,2,3,4,5]\n",
    "    stor = [2,3,4,5,6]\n",
    "    \n",
    "    if sorted(dice) == liten:\n",
    "        return 15\n",
    "    elif sorted(dice) == stor:\n",
    "        return 20\n",
    "    return 0"
   ]
  },
  {
   "cell_type": "markdown",
   "id": "3117d645",
   "metadata": {},
   "source": [
    "Test:"
   ]
  },
  {
   "cell_type": "code",
   "execution_count": 8,
   "id": "494a52cf",
   "metadata": {},
   "outputs": [
    {
     "name": "stdout",
     "output_type": "stream",
     "text": [
      "15\n",
      "15\n",
      "20\n",
      "20\n",
      "0\n"
     ]
    }
   ],
   "source": [
    "print(straight([1, 2, 3, 4, 5]))\n",
    "print(straight([5, 2, 3, 1, 4]))\n",
    "print(straight([2, 3, 4, 5, 6]))\n",
    "print(straight([3, 2, 5, 4, 6]))\n",
    "print(straight([1, 2, 3, 4, 6]))"
   ]
  },
  {
   "cell_type": "markdown",
   "id": "4c66cc23",
   "metadata": {},
   "source": [
    "**(c)** Lag funksjonen **house(dice)** som har parameteren **dice** som er en liste med fem heltall 1-6. Funksjonen skal returnere summen av alle terningene **hvis** verdiene i dice har både 3 like og ett par (f.eks. 4,4,4,2,2 eller 1,1,6,6,6), **ellers** skal verdien 0 returneres. Funksjonen skal også returnere verdien 0 hvis alle elementene i dice er like. Eksempel på kjøring av funksjonen og hva den returnerer:"
   ]
  },
  {
   "cell_type": "markdown",
   "id": "da55880e",
   "metadata": {},
   "source": [
    "```shell\n",
    ">>> house([1,3,1,1,3])\n",
    "\n",
    "9\n",
    "\n",
    ">>> house([4,3,3,3,4])\n",
    "\n",
    "17\n",
    "\n",
    ">>> house([2,2,2,2,2])\n",
    "\n",
    "0\n",
    "\n",
    ">>> house([1,3,4,2,3])\n",
    "\n",
    "0\n",
    "```"
   ]
  },
  {
   "cell_type": "markdown",
   "id": "f2d38096",
   "metadata": {},
   "source": [
    "Test cases:\n",
    "    \n",
    "| Test case # | Input       | Forventet output |\n",
    "|-------------|-------------|------------------|\n",
    "| 1           | \t[1,3,1,1,3] | 9               |\n",
    "| 2           | [4,3,3,3,4] | 17               |\n",
    "| 3           | [2,2,2,2,2] | 0                |\n",
    "| 4           | [1,3,4,2,3] | 0               |\n",
    "| 5           | [4,4,4,4,5] | 0                |\n"
   ]
  },
  {
   "cell_type": "code",
   "execution_count": 9,
   "id": "a22f7245",
   "metadata": {},
   "outputs": [],
   "source": [
    "def house(dice):\n",
    "    if len(set(dice)) != 2 or len(set(dice)) == 1: \n",
    "        # Dersom det ikke er kun 2 ulike tall i listen kan det ikke være house. \n",
    "        # Funksjonen skulle også returnere 0 dersom det kun var samme element i listen\n",
    "        return 0\n",
    "    \n",
    "    dice = sorted(dice)\n",
    "    is_house = len(set(dice[0:3])) == 1 and len(set(dice[3:])) == 1 or len(set(dice[0:2])) == 1 and len(set(dice[2:])) == 1\n",
    "    if is_house: # Det er house\n",
    "        return chance(dice) # evt sum(dice)\n",
    "    return 0 # Det er ikke house"
   ]
  },
  {
   "cell_type": "markdown",
   "id": "d1cbee4d",
   "metadata": {},
   "source": [
    "Test:"
   ]
  },
  {
   "cell_type": "code",
   "execution_count": 10,
   "id": "727bdda5",
   "metadata": {
    "scrolled": true
   },
   "outputs": [
    {
     "name": "stdout",
     "output_type": "stream",
     "text": [
      "9\n",
      "17\n",
      "0\n",
      "0\n",
      "0\n"
     ]
    }
   ],
   "source": [
    "print(house([1,3,1,1,3]))\n",
    "print(house([4,3,3,3,4]))\n",
    "print(house([2,2,2,2,2]))\n",
    "print(house([1,3,4,2,3]))\n",
    "print(house([4,4,4,4,5]))"
   ]
  },
  {
   "cell_type": "markdown",
   "id": "f6ce2f74",
   "metadata": {},
   "source": [
    "# Tall til sifre / Number to digits (5%)"
   ]
  },
  {
   "cell_type": "markdown",
   "id": "66cbce8b",
   "metadata": {},
   "source": [
    "Vi ønsker en funksjon som skal få inn som argument et heltall, og returnere ei liste med sifrene i heltallet. Eksempel:\n",
    "\n",
    "- 0 som argument skal gi lista [0] i retur\n",
    "- 65 som argument skal gi lista [6, 5] i retur\n",
    "- 1244 som argument skal gi lista [1, 2, 4, 4] i retur\n",
    "\n",
    "Du kan anta at argumentet som gis inn til funksjonen alltid er et heltall >= 0.\n",
    "\n",
    "Nedenfor er to varianter av denne funksjonen, **list_of_digits_V1()** og **list_of_digits_V2()**. Begge skal gjøre akkurat det samme, bare på ulike måter. **Trekk kodefragmentene til riktig posisjon slik at begge funksjonene virker som forklart over.**"
   ]
  },
  {
   "cell_type": "code",
   "execution_count": 11,
   "id": "12a386ed",
   "metadata": {},
   "outputs": [],
   "source": [
    "def list_of_digits_V1(num):\n",
    "    L = []\n",
    "    for ch in str(num):\n",
    "        L.append(int(ch))\n",
    "    return L\n",
    "\n",
    "def list_of_digits_V2(num):\n",
    "    if num == 0:\n",
    "        return [0]\n",
    "    else:\n",
    "        L = []\n",
    "    while num > 0:\n",
    "        L.append(num % 10)\n",
    "        num = num // 10\n",
    "    L.reverse()\n",
    "    return L"
   ]
  },
  {
   "cell_type": "markdown",
   "id": "954fb6b4",
   "metadata": {},
   "source": [
    "Test:"
   ]
  },
  {
   "cell_type": "code",
   "execution_count": 12,
   "id": "1d6933c0",
   "metadata": {},
   "outputs": [
    {
     "name": "stdout",
     "output_type": "stream",
     "text": [
      "[0]\n",
      "[6, 5]\n",
      "[1, 2, 4, 4]\n",
      "[0]\n",
      "[6, 5]\n",
      "[1, 2, 4, 4]\n"
     ]
    }
   ],
   "source": [
    "print(list_of_digits_V1(0))\n",
    "print(list_of_digits_V1(65))\n",
    "print(list_of_digits_V1(1244))\n",
    "\n",
    "print(list_of_digits_V2(0))\n",
    "print(list_of_digits_V2(65))\n",
    "print(list_of_digits_V2(1244))"
   ]
  },
  {
   "cell_type": "markdown",
   "id": "c2f9250b",
   "metadata": {},
   "source": [
    "# Sjekke matrise / Check matrix"
   ]
  },
  {
   "cell_type": "markdown",
   "id": "439fa396",
   "metadata": {},
   "source": [
    "Funksjonen **is_unit_matrix(A)** skal sjekke om **A** - en matrise representert som en liste av lister - er en enhetsmatrise eller ikke. En enhetsmatrise er en matrise hvor\n",
    "\n",
    "- antall rader er lik antall kolonner\n",
    "- alle tall i diagonalen fra øvre venstre til nedre høyre hjørne er 1. \n",
    "- alle øvrige tall er 0\n",
    "\n",
    "Funksjonen skal returnere **True** hvis **A** er en enhetsmatrise, ellers **False**. \n",
    "\n",
    " \n",
    "\n",
    "Eksempler på kjøring:\n",
    "\n",
    "```shell\n",
    ">>> is_unit_matrix([[1,0,0], [0,1,0], [0,0,1]])\n",
    "True\n",
    "\n",
    ">>> is_unit_matrix([[2,0,3], [1,2,3], [3,4,5]])\n",
    "False\n",
    "```\n",
    "\n",
    "Eksemplene viser matriser med 3 rader og 3 kolonner, men det kan være et vilkårlig antall rader og kolonner i matriser som gis inn til funksjonen. Du kan imidlertid anta at det alltid gis inn en matrise som kun består av heltall."
   ]
  },
  {
   "cell_type": "markdown",
   "id": "505ceee6",
   "metadata": {},
   "source": [
    "**Oppgave**: Under vises kode for funksjonen **is_unit_matrix()**. Fyll inn det som mangler slik at funksjonen virker som beskrevet ovenfor."
   ]
  },
  {
   "cell_type": "code",
   "execution_count": 13,
   "id": "a2a1c1bd",
   "metadata": {},
   "outputs": [],
   "source": [
    "def is_unit_matrix(A):\n",
    "    rows = len(A)\n",
    "    for i in range(rows):\n",
    "        if A[i] != [0] * i + [1] + [0] * (rows - i - 1):\n",
    "            return False\n",
    "    return True"
   ]
  },
  {
   "cell_type": "markdown",
   "id": "7c70be9e",
   "metadata": {},
   "source": [
    "Test:"
   ]
  },
  {
   "cell_type": "code",
   "execution_count": 14,
   "id": "a2e192b1",
   "metadata": {},
   "outputs": [
    {
     "name": "stdout",
     "output_type": "stream",
     "text": [
      "True\n",
      "False\n"
     ]
    }
   ],
   "source": [
    "print(is_unit_matrix([[1,0,0], [0,1,0], [0,0,1]]))\n",
    "print(is_unit_matrix([[2,0,3], [1,2,3], [3,4,5]]))"
   ]
  },
  {
   "cell_type": "markdown",
   "id": "36634d57",
   "metadata": {},
   "source": [
    "# Trappesteg "
   ]
  },
  {
   "attachments": {
    "image.png": {
     "image/png": "[encoded data removed]"
    }
   },
   "cell_type": "markdown",
   "id": "3affb6ef",
   "metadata": {},
   "source": [
    "Vi ønsker å lage en funksjon som får inn matriser i form av todimensjonale lister i Python og sjekker om  de tilfredsstiller følgende krav: \n",
    "\n",
    "(i) matrisen må være kvadratisk, dvs. alle kolonner har like mange element som antall rader, \n",
    "\n",
    "(ii) alle elementer under diagonalen er lik 0, \n",
    "\n",
    "(iii) alle  elementer i diagonalen må være **ulik** 0. F.eks.  gitt matrisene\n",
    "\n",
    "\n",
    "![Screenshot_3.png](attachment:image.png)\n",
    "\n",
    " \n",
    "\n",
    "så vil A tilfredsstille disse kravene, mens B, C og D ikke gjør det (tallet vist med fet skrift indikerer avviket fra reglene).\n",
    "\n",
    " \n",
    "\n",
    "Nedenfor er vist nesten ferdig kode for en funksjon som kan sjekke om en matrise tilfredsstiller kravene. Den skal returnere **True** for korrekte matriser, ellers **False**.\n",
    "\n",
    " \n",
    "\n",
    "Fyll inn riktig kode der det mangler noe, slik at funksjonen vil virke som forutsatt."
   ]
  },
  {
   "cell_type": "code",
   "execution_count": 15,
   "id": "bdb80010",
   "metadata": {},
   "outputs": [],
   "source": [
    "def check_echelon(M):\n",
    "    rows = len(M)\n",
    "    for i in range(rows):\n",
    "        if len(M[i]) != rows or M[i][i] == 0:\n",
    "            return False\n",
    "        elif M[i][0:i] != [0] * i:\n",
    "            return False \n",
    "    return True"
   ]
  },
  {
   "cell_type": "markdown",
   "id": "9356cf4f",
   "metadata": {},
   "source": [
    "Test:"
   ]
  },
  {
   "cell_type": "code",
   "execution_count": 16,
   "id": "58a5a8e7",
   "metadata": {},
   "outputs": [
    {
     "name": "stdout",
     "output_type": "stream",
     "text": [
      "True\n",
      "False\n",
      "False\n",
      "False\n"
     ]
    }
   ],
   "source": [
    "print(check_echelon([[1, -5, 8, -2], [0, 3, -2, 7], [0, 0, -3, 1], [0, 0, 0, -4]]))\n",
    "print(check_echelon([[1, -5, 8, -2], [0, 3, -2, 7], [0, 0, -3, 1], [3, 0, 0, -4]]))\n",
    "print(check_echelon([[0, -5, 8, -2], [0, 3, -2, 7], [0, 0, -3, 1], [0, 0, 0, -4]]))\n",
    "print(check_echelon([[1, -5, 8, -2], [0, 3, -2, 7, 9], [0, 0, -3, 1], [0, 0, 0, -4]]))"
   ]
  },
  {
   "cell_type": "markdown",
   "id": "bdc3a606",
   "metadata": {},
   "source": [
    "# Kopi av Looping in 2D lists / Løkker i 2D lister"
   ]
  },
  {
   "cell_type": "markdown",
   "id": "d4c9dc2b",
   "metadata": {},
   "source": [
    "**POENG: På dette spørsmålet får du +0.5 poeng per korrekt svar, -0.25 poeng per blankt eller ukorrekt svar.**\n",
    "\n",
    "Funksjonen **seq_in_tab()** skal ta to argumenter, pluss et valgfritt tredje argument. Funksjonen sjekker om en sekvens av tall  (det første argumentet) fins ved radvis gjennomgang av ei 2D liste (andre argument). For illustrasjon av hvordan funksjonen virker, anta at vi har følgende:\n",
    "\n",
    "\n",
    "![Screenshot_1.png](attachment:image.png)\n",
    "\n",
    "\n",
    "Med disse dataene, skal funksjonen **seq_in_tab()** gjøre som følger:\n",
    "\n",
    "- **seq_in_tab(S0,M)** skal returnere **False** (sekvensen 0,1,2 fins ikke i M)\n",
    "- **seq_in_tab(S1, M)** skal returnere **True** (1,2,3 fins i en av radene til M)\n",
    "- **seq_in_tab(S2, M)** skal returnere **False** (3,4,4 fins ikke, bare 3,4)\n",
    "- **seq_in_tab(S3, M)** skal returnere False. (7,8,10,12 fins, men bare hvis man slår sammen flere rader). Men, dersom vi gir inn det tredje argumentet som True:\n",
    "- **seq_in_tab(S3, M, True)** skal returnere **True**. Dvs., å gi inn det tredje argumentet som True, innebærer at funksjonen skal akseptere også sekvenser som går over flere linjer.\n",
    "- **seq_in_tab(S4, M, True)** skal returnere **False**. Selv om alle tallene fins i M, står de ikke ved siden av hverandre. Dvs., for å være akseptabel må en sekvens finnes ved radvis gjennomgang av 2D-lista, ikke kolonnevis.\n",
    "\n",
    "**Oppgave: Velg alternativer for det som mangler i koden under slik at funksjonen virker som forklart over.**"
   ]
  },
  {
   "cell_type": "code",
   "execution_count": 33,
   "id": "4c9fbb84",
   "metadata": {},
   "outputs": [],
   "source": [
    "def seq_in_tab(S, M, wrap=False):\n",
    "    ct = 0\n",
    "    for i in range(len(M)):\n",
    "        for j in range(len(M[i])):\n",
    "            if M[i][j] in S:\n",
    "                ct += 1\n",
    "                if ct == len(S):\n",
    "                    return True\n",
    "            else:\n",
    "                ct = 0\n",
    "        if not wrap:\n",
    "            return False\n",
    "    return False"
   ]
  },
  {
   "cell_type": "markdown",
   "id": "db9ace9b",
   "metadata": {},
   "source": [
    "Test:"
   ]
  },
  {
   "cell_type": "code",
   "execution_count": 35,
   "id": "436eee64",
   "metadata": {},
   "outputs": [
    {
     "name": "stdout",
     "output_type": "stream",
     "text": [
      "False\n",
      "True\n",
      "False\n",
      "False\n",
      "True\n",
      "False\n"
     ]
    }
   ],
   "source": [
    "M = [[1,2,3,4], [5,6,7,8], [10, 12, 0, 14]]\n",
    "S0 = [0,1,2]\n",
    "S1 = [1,2,3,4]\n",
    "S2 = [3,4,4]\n",
    "S3 = [7,8,10,12]\n",
    "S4 = [3,7,0]\n",
    "\n",
    "print(seq_in_tab(S0, M))\n",
    "print(seq_in_tab(S1, M))\n",
    "print(seq_in_tab(S2, M))\n",
    "print(seq_in_tab(S3, M))\n",
    "print(seq_in_tab(S3, M, True))\n",
    "print(seq_in_tab(S4, M, True))"
   ]
  },
  {
   "cell_type": "markdown",
   "id": "4f9e9258",
   "metadata": {},
   "source": [
    "# Strengelek 2"
   ]
  },
  {
   "cell_type": "markdown",
   "id": "ee5af80e",
   "metadata": {},
   "source": [
    "Funksjonen **f(streng)** får inn som parameter en **streng av vilkårlig lengde**. Alle tegn i strengen kan antas å være små bokstaver i det latinske alfabetet, dvs. 'a' - 'z' . Funksjonen skal\n",
    "\n",
    "- returnere en streng med de samme tegnene, men\n",
    "- i den returnerte strengen skal tegn som er identiske med tegnet rett foran være fjernet, slik at det aldri kommer to like tegn rett etter hverandre. F.eks.\n",
    "  - 'abcda' -> 'abcda'\n",
    "  - 'aabcabbbbccbbc' -> 'abcabcbc'\n",
    "  \n",
    "Test cases:\n",
    "\n",
    "| Test case # | Input       | Forventet output |\n",
    "|-------------|-------------|------------------|\n",
    "| 1           | a | a               |\n",
    "| 2           | abcda | abcda               |\n",
    "| 3           | abbcddaabba | abcdaba                |\n",
    "| 4           |aabbbbcddaa | abcda               |"
   ]
  },
  {
   "cell_type": "code",
   "execution_count": 90,
   "id": "8d1f56b5",
   "metadata": {},
   "outputs": [],
   "source": [
    "def f(streng):\n",
    "    if len(streng) == 0:\n",
    "        return ''\n",
    "    \n",
    "    st = streng[0]\n",
    "    i = 1\n",
    "    while i < len(streng):\n",
    "        j = i\n",
    "        lengde = 1\n",
    "        while streng[j] == st[-1] and j < len(streng) - 1:\n",
    "            j += 1\n",
    "            lengde += 1\n",
    "        st += streng[j] if streng[j] != st[-1] else ''\n",
    "        i += lengde\n",
    "    \n",
    "    return st"
   ]
  },
  {
   "cell_type": "markdown",
   "id": "e0a01254",
   "metadata": {},
   "source": [
    "Test:"
   ]
  },
  {
   "cell_type": "code",
   "execution_count": 91,
   "id": "c81f3f39",
   "metadata": {
    "scrolled": true
   },
   "outputs": [
    {
     "name": "stdout",
     "output_type": "stream",
     "text": [
      "a\n",
      "abcda\n",
      "abcdaba\n",
      "abcda\n"
     ]
    }
   ],
   "source": [
    "print(f('a'))\n",
    "print(f('abcda'))\n",
    "print(f('abbcddaabba'))\n",
    "print(f('aabbbbcddaa'))"
   ]
  },
  {
   "cell_type": "markdown",
   "id": "f90c59df",
   "metadata": {},
   "source": [
    "# Tekst for tall, del (a): to siffer"
   ]
  },
  {
   "cell_type": "markdown",
   "id": "8f9a2960",
   "metadata": {},
   "source": [
    "Firmaer som setter opp kjøpskontrakter har ofte behov for å oppgi beløpet som skal betales både med tall og tekst. Store beløp blir en lang tekst og ansatte har lett for å skrive feil slik at tall og tekst ikke stemmer overens. Man ønsker derfor et program som automatisk kan oversette tall til tekst. I denne oppgaven skal tallene omformes til engelsk tekst.\n",
    "\n",
    "Du kan anta at det ordboka D allerede er opprettet som en global variabel som du kan benytte deg av i koden din hvis du ønsker det. Den har innholdet:\n",
    "\n",
    "- D = {0: 'zero', 1: 'one', 2: 'two', 3: 'three', 4: 'four', 5: 'five', 6: 'six', 7: 'seven', 8: 'eight', 9: 'nine', 10: 'ten', 11: 'eleven', 12: 'twelve', 13: 'thirteen', 14: 'fourteen', 15: 'fifteen', 16: 'sixteen', 17: 'seventeen', 18: 'eighteen', 19: 'nineteen', 20: 'twenty', 30: 'thirty', 40: 'forty', 50: 'fifty', 60: 'sixty', 70: 'seventy', 80: 'eighty', 90: 'ninety'}"
   ]
  },
  {
   "cell_type": "markdown",
   "id": "fa93c230",
   "metadata": {},
   "source": [
    "**(a):** Skriv en funksjon **i2_txt(tall)** som kan ta som argument et positivt heltall med maksimalt to siffer, og som returnerer tallet som tilsvarende engelsk tekst. Eksempel på kjøring:\n",
    "\n",
    "```shell\n",
    ">>> i2_txt(5)\n",
    "\n",
    "'five'\n",
    "\n",
    ">>> i2_txt(30)\n",
    "\n",
    "'thirty'\n",
    "\n",
    ">>>i2_txt(68)\n",
    "\n",
    "'sixty-eight'\n",
    "```\n",
    "\n",
    "Test cases:\n",
    "\n",
    "| Test case # | Input       | Forventet output |\n",
    "|-------------|-------------|------------------|\n",
    "| 1           | 5 | five               |\n",
    "| 2           | 30 | thirty               |\n",
    "| 3           | 68 | sixty-eight                |"
   ]
  },
  {
   "cell_type": "code",
   "execution_count": 101,
   "id": "032ab0a5",
   "metadata": {},
   "outputs": [],
   "source": [
    "D = {\n",
    "    0: 'zero', 1: 'one', 2: 'two', 3: 'three', 4: 'four', 5: 'five', 6: 'six', 7: 'seven', 8: 'eight', 9: 'nine', \n",
    "    10: 'ten', 11: 'eleven', 12: 'twelve', 13: 'thirteen', 14: 'fourteen', 15: 'fifteen', 16: 'sixteen', 17: 'seventeen', \n",
    "    18: 'eighteen', 19: 'nineteen', 20: 'twenty', 30: 'thirty', 40: 'forty', 50: 'fifty', 60: 'sixty', 70: 'seventy',\n",
    "    80: 'eighty', 90: 'ninety'\n",
    "}\n",
    "\n",
    "def i2_txt(tall):\n",
    "    tier = tall // 10 * 10\n",
    "    ener = tall % 10\n",
    "    if tier == 0:\n",
    "        return D[ener]\n",
    "    if ener == 0:\n",
    "        return D[tall]\n",
    "    \n",
    "    return D[tier] + '-' + D[ener]"
   ]
  },
  {
   "cell_type": "code",
   "execution_count": null,
   "id": "3dd191e0",
   "metadata": {},
   "outputs": [],
   "source": []
  },
  {
   "cell_type": "code",
   "execution_count": 102,
   "id": "d3768479",
   "metadata": {},
   "outputs": [
    {
     "name": "stdout",
     "output_type": "stream",
     "text": [
      "five\n",
      "thirty\n",
      "sixty-eight\n"
     ]
    }
   ],
   "source": [
    "print(i2_txt(5))\n",
    "print(i2_txt(30))\n",
    "print(i2_txt(68))"
   ]
  }
 ],
 "metadata": {
  "kernelspec": {
   "display_name": "Python 3 (ipykernel)",
   "language": "python",
   "name": "python3"
  },
  "language_info": {
   "codemirror_mode": {
    "name": "ipython",
    "version": 3
   },
   "file_extension": ".py",
   "mimetype": "text/x-python",
   "name": "python",
   "nbconvert_exporter": "python",
   "pygments_lexer": "ipython3",
   "version": "3.9.7"
  }
 },
 "nbformat": 4,
 "nbformat_minor": 5
}
