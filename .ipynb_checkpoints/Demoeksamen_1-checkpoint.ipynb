{
 "cells": [
  {
   "cell_type": "markdown",
   "id": "efd44c8b",
   "metadata": {},
   "source": [
    "# Merk at dette bare er et _løsningsforslag_. Det finnes mange forskjellige måter å løse oppgavene på."
   ]
  },
  {
   "cell_type": "markdown",
   "id": "bf85ab38",
   "metadata": {},
   "source": [
    "# Yatzy, del (a): tilfeldig kast\n",
    "\n",
    "I denne oppgaven skal du skrive noen funksjoner til spillet Yatzy. I Yatzy spiller man med 5 terninger der målet er å få høyest poengsum på ulike sammensetninger av terninger som ett par, to par, tre like, fire like, liten straight, stor straight, hus, sjanse og yatzy."
   ]
  },
  {
   "cell_type": "markdown",
   "id": "37b23b54",
   "metadata": {},
   "source": [
    "**(a)** Skriv en funksjon throw(n). Funksjonen har som parameter antall terninger som skal kastes (int) og skal returnere en liste med heltall som viser de verdiene terningene tilfeldigvis fikk. Eksempel på kjøring:"
   ]
  },
  {
   "cell_type": "markdown",
   "id": "5ae29666",
   "metadata": {},
   "source": [
    "```shell\n",
    ">>> throw(5)\n",
    "\n",
    "[2, 1, 5, 6, 1]\n",
    "\n",
    ">>> throw(2)\n",
    "\n",
    "[5, 5]\n",
    "\n",
    ">>> throw(1)\n",
    "\n",
    "[2]\n",
    "```\n",
    "\n",
    "NB: tallene som returneres skal trekkes tilfeldig, det må ikke være faste tall som du finner på."
   ]
  },
  {
   "cell_type": "code",
   "execution_count": 1,
   "id": "acb19646",
   "metadata": {},
   "outputs": [],
   "source": [
    "from random import randint\n",
    "\n",
    "def throw(n):\n",
    "    tilfeldige_tall = []\n",
    "    for i in range(n):\n",
    "        tilfeldige_tall.append(randint(1, 6))\n",
    "    return tilfeldige_tall\n",
    "\n",
    "# Eventuelt\n",
    "def throw2(n):\n",
    "    return [randint(1, 6) for _ in range(n)]"
   ]
  },
  {
   "cell_type": "markdown",
   "id": "4b4279bb",
   "metadata": {},
   "source": [
    "Test:"
   ]
  },
  {
   "cell_type": "code",
   "execution_count": 2,
   "id": "17e4aae6",
   "metadata": {},
   "outputs": [
    {
     "name": "stdout",
     "output_type": "stream",
     "text": [
      "[4, 1, 3, 4, 1]\n",
      "[4, 6]\n",
      "[2]\n"
     ]
    }
   ],
   "source": [
    "print(throw(5))\n",
    "print(throw(2))\n",
    "print(throw(1))"
   ]
  },
  {
   "cell_type": "markdown",
   "id": "a064e991",
   "metadata": {},
   "source": [
    "**(b)** Lag en funksjon for å beregne score på \"sjanse\" i Yatzy, som rett og slett er summen av de fem terningene man har kastet. Funksjonen **chance()** skal ha parameteren **dice** som er en liste med fem terningverdier (int) i området 1 - 6. Funksjonen skal returnere summen av tallene. **NB: I denne spesielle oppgaven er det ikke lov å bruke den innebygde funksjonen sum() for å finne summen av tallene i lista, det skal skrives en løkke som går gjennom lista og legger til ett og ett tall.**\n",
    "Eksempel på kjøring:"
   ]
  },
  {
   "cell_type": "markdown",
   "id": "a1f52a4e",
   "metadata": {},
   "source": [
    "```shell\n",
    ">>> chance([5, 2, 6, 3, 3])\n",
    "\n",
    "19\n",
    "\n",
    ">>> chance([3, 1, 6, 1, 6])\n",
    "\n",
    "17\n",
    "```"
   ]
  },
  {
   "cell_type": "code",
   "execution_count": 3,
   "id": "3d0e26a7",
   "metadata": {},
   "outputs": [],
   "source": [
    "def chance(dice):\n",
    "    summen = 0\n",
    "    for elem in dice:\n",
    "        summen += elem\n",
    "    return summen"
   ]
  },
  {
   "cell_type": "markdown",
   "id": "8c46b979",
   "metadata": {},
   "source": [
    "Test:"
   ]
  },
  {
   "cell_type": "code",
   "execution_count": 4,
   "id": "80227b1d",
   "metadata": {},
   "outputs": [
    {
     "name": "stdout",
     "output_type": "stream",
     "text": [
      "19\n",
      "17\n"
     ]
    }
   ],
   "source": [
    "print(chance([5, 2, 6, 3, 3]))\n",
    "print(chance([3, 1, 6, 1, 6]))"
   ]
  },
  {
   "cell_type": "markdown",
   "id": "5ec340e6",
   "metadata": {},
   "source": [
    "**c)** I terningspillet Yatzy er \"yatzy\" hvis man får samme tall på alle de 5 terningene. Lag en funksjon **yatzy(dice)** som returnerer 75 hvis man har 5 seksere, 50 hvis man har fem like av et lavere tall enn 6, og 0 hvis man ikke har fem like.\n",
    "\n",
    "Test cases:\n",
    "\n",
    "| Test case # | Input       | Forventet output |\n",
    "|-------------|-------------|------------------|\n",
    "| 1           | [6,6,6,6,6] | 75               |\n",
    "| 2           | [3,3,3,3,3] | 50               |\n",
    "| 3           | [3,3,3,3,2] | 0                |"
   ]
  },
  {
   "cell_type": "code",
   "execution_count": 5,
   "id": "230f87cd",
   "metadata": {},
   "outputs": [],
   "source": [
    "def yatzy(dice):\n",
    "    if len(dice) != 5: # Tilfelle vi ikke har 5 terninger. Det er da ugyldig\n",
    "        return -1\n",
    "    \n",
    "    dice = set(dice)\n",
    "    if len(dice) == 1:\n",
    "        if 6 in dice:\n",
    "            return 75\n",
    "        return 50\n",
    "    return 0    "
   ]
  },
  {
   "cell_type": "markdown",
   "id": "2189867f",
   "metadata": {},
   "source": [
    "Test:"
   ]
  },
  {
   "cell_type": "code",
   "execution_count": 6,
   "id": "a6448bec",
   "metadata": {},
   "outputs": [
    {
     "name": "stdout",
     "output_type": "stream",
     "text": [
      "75\n",
      "50\n",
      "0\n",
      "50\n",
      "50\n",
      "50\n",
      "50\n"
     ]
    }
   ],
   "source": [
    "print(yatzy([6,6,6,6,6]))\n",
    "print(yatzy([3,3,3,3,3]))\n",
    "print(yatzy([3,3,3,3,2]))\n",
    "print(yatzy([5,5,5,5,5]))\n",
    "print(yatzy([4,4,4,4,4]))\n",
    "print(yatzy([2,2,2,2,2]))\n",
    "print(yatzy([1,1,1,1,1]))"
   ]
  },
  {
   "cell_type": "markdown",
   "id": "712b28d1",
   "metadata": {},
   "source": [
    "**d)** I yatzy er \"liten straight\" hvis man på de 5 terningene har fått tallene 1, 2, 3, 4, 5 og \"stor straight\" er hvis man har fått tallene 2, 3, 4, 5, 6.\n",
    "\n",
    "**Oppgave:** Lag en funksjon **straight(dice)** som får inn som parameter ei liste med fem heltall, og som returnerer tallet 15 hvis det er liten straight, 20 hvis det er stor straight, 0 hvis det verken er liten eller stor straight. Merk: Tallene kan komme i tilfeldig rekkefølge i lista som kommer inn som parameter.\n",
    "\n",
    "Test cases:\n",
    "\n",
    "| Test case # | Input       | Forventet output |\n",
    "|-------------|-------------|------------------|\n",
    "| 1           | [1, 2, 3, 4, 5] | 15               |\n",
    "| 2           | [5, 2, 3, 1, 4] | 15               |\n",
    "| 3           | [2, 3, 4, 5, 6] | 20                |\n",
    "| 4           | [3,  2, 5, 4, 6] | 20                |\n",
    "| 5           | [1, 2, 3, 4, 6] | 0                |\n"
   ]
  },
  {
   "cell_type": "code",
   "execution_count": 7,
   "id": "0e7020b6",
   "metadata": {},
   "outputs": [],
   "source": [
    "def straight(dice):\n",
    "    liten = [1,2,3,4,5]\n",
    "    stor = [2,3,4,5,6]\n",
    "    \n",
    "    if sorted(dice) == liten:\n",
    "        return 15\n",
    "    elif sorted(dice) == stor:\n",
    "        return 20\n",
    "    return 0"
   ]
  },
  {
   "cell_type": "markdown",
   "id": "c04f0437",
   "metadata": {},
   "source": [
    "Test:"
   ]
  },
  {
   "cell_type": "code",
   "execution_count": 8,
   "id": "5de8dc5d",
   "metadata": {},
   "outputs": [
    {
     "name": "stdout",
     "output_type": "stream",
     "text": [
      "15\n",
      "15\n",
      "20\n",
      "20\n",
      "0\n"
     ]
    }
   ],
   "source": [
    "print(straight([1, 2, 3, 4, 5]))\n",
    "print(straight([5, 2, 3, 1, 4]))\n",
    "print(straight([2, 3, 4, 5, 6]))\n",
    "print(straight([3, 2, 5, 4, 6]))\n",
    "print(straight([1, 2, 3, 4, 6]))"
   ]
  },
  {
   "cell_type": "markdown",
   "id": "fab925c4",
   "metadata": {},
   "source": [
    "**(c)** Lag funksjonen **house(dice)** som har parameteren **dice** som er en liste med fem heltall 1-6. Funksjonen skal returnere summen av alle terningene **hvis** verdiene i dice har både 3 like og ett par (f.eks. 4,4,4,2,2 eller 1,1,6,6,6), **ellers** skal verdien 0 returneres. Funksjonen skal også returnere verdien 0 hvis alle elementene i dice er like. Eksempel på kjøring av funksjonen og hva den returnerer:"
   ]
  },
  {
   "cell_type": "markdown",
   "id": "bcb2f24b",
   "metadata": {},
   "source": [
    "```shell\n",
    ">>> house([1,3,1,1,3])\n",
    "\n",
    "9\n",
    "\n",
    ">>> house([4,3,3,3,4])\n",
    "\n",
    "17\n",
    "\n",
    ">>> house([2,2,2,2,2])\n",
    "\n",
    "0\n",
    "\n",
    ">>> house([1,3,4,2,3])\n",
    "\n",
    "0\n",
    "```"
   ]
  },
  {
   "cell_type": "markdown",
   "id": "d50ab972",
   "metadata": {},
   "source": [
    "Test cases:\n",
    "    \n",
    "| Test case # | Input       | Forventet output |\n",
    "|-------------|-------------|------------------|\n",
    "| 1           | \t[1,3,1,1,3] | 9               |\n",
    "| 2           | [4,3,3,3,4] | 17               |\n",
    "| 3           | [2,2,2,2,2] | 0                |\n",
    "| 4           | [1,3,4,2,3] | 0               |\n",
    "| 5           | [4,4,4,4,5] | 0                |\n"
   ]
  },
  {
   "cell_type": "code",
   "execution_count": 9,
   "id": "badf5eea",
   "metadata": {},
   "outputs": [],
   "source": [
    "def house(dice):\n",
    "    if len(set(dice)) != 2 or len(set(dice)) == 1: \n",
    "        # Dersom det ikke er kun 2 ulike tall i listen kan det ikke være house. \n",
    "        # Funksjonen skulle også returnere 0 dersom det kun var samme element i listen\n",
    "        return 0\n",
    "    \n",
    "    dice = sorted(dice)\n",
    "    is_house = len(set(dice[0:3])) == 1 and len(set(dice[3:])) == 1 or len(set(dice[0:2])) == 1 and len(set(dice[2:])) == 1\n",
    "    if is_house: # Det er house\n",
    "        return chance(dice) # evt sum(dice)\n",
    "    return 0 # Det er ikke house"
   ]
  },
  {
   "cell_type": "markdown",
   "id": "37d1ef7c",
   "metadata": {},
   "source": [
    "Test:"
   ]
  },
  {
   "cell_type": "code",
   "execution_count": 10,
   "id": "61e72bf0",
   "metadata": {
    "scrolled": true
   },
   "outputs": [
    {
     "name": "stdout",
     "output_type": "stream",
     "text": [
      "9\n",
      "17\n",
      "0\n",
      "0\n",
      "0\n"
     ]
    }
   ],
   "source": [
    "print(house([1,3,1,1,3]))\n",
    "print(house([4,3,3,3,4]))\n",
    "print(house([2,2,2,2,2]))\n",
    "print(house([1,3,4,2,3]))\n",
    "print(house([4,4,4,4,5]))"
   ]
  },
  {
   "cell_type": "markdown",
   "id": "353415ed",
   "metadata": {},
   "source": [
    "# Tall til sifre / Number to digits (5%)"
   ]
  },
  {
   "cell_type": "markdown",
   "id": "f28075fd",
   "metadata": {},
   "source": [
    "Vi ønsker en funksjon som skal få inn som argument et heltall, og returnere ei liste med sifrene i heltallet. Eksempel:\n",
    "\n",
    "- 0 som argument skal gi lista [0] i retur\n",
    "- 65 som argument skal gi lista [6, 5] i retur\n",
    "- 1244 som argument skal gi lista [1, 2, 4, 4] i retur\n",
    "\n",
    "Du kan anta at argumentet som gis inn til funksjonen alltid er et heltall >= 0.\n",
    "\n",
    "Nedenfor er to varianter av denne funksjonen, **list_of_digits_V1()** og **list_of_digits_V2()**. Begge skal gjøre akkurat det samme, bare på ulike måter. **Trekk kodefragmentene til riktig posisjon slik at begge funksjonene virker som forklart over.**"
   ]
  },
  {
   "cell_type": "code",
   "execution_count": 11,
   "id": "72e157cb",
   "metadata": {},
   "outputs": [],
   "source": [
    "def list_of_digits_V1(num):\n",
    "    L = []\n",
    "    for ch in str(num):\n",
    "        L.append(int(ch))\n",
    "    return L\n",
    "\n",
    "def list_of_digits_V2(num):\n",
    "    if num == 0:\n",
    "        return [0]\n",
    "    else:\n",
    "        L = []\n",
    "    while num > 0:\n",
    "        L.append(num % 10)\n",
    "        num = num // 10\n",
    "    L.reverse()\n",
    "    return L"
   ]
  },
  {
   "cell_type": "markdown",
   "id": "e99f3c53",
   "metadata": {},
   "source": [
    "Test:"
   ]
  },
  {
   "cell_type": "code",
   "execution_count": 12,
   "id": "0d3e4624",
   "metadata": {},
   "outputs": [
    {
     "name": "stdout",
     "output_type": "stream",
     "text": [
      "[0]\n",
      "[6, 5]\n",
      "[1, 2, 4, 4]\n",
      "[0]\n",
      "[6, 5]\n",
      "[1, 2, 4, 4]\n"
     ]
    }
   ],
   "source": [
    "print(list_of_digits_V1(0))\n",
    "print(list_of_digits_V1(65))\n",
    "print(list_of_digits_V1(1244))\n",
    "\n",
    "print(list_of_digits_V2(0))\n",
    "print(list_of_digits_V2(65))\n",
    "print(list_of_digits_V2(1244))"
   ]
  },
  {
   "cell_type": "markdown",
   "id": "b8619e4f",
   "metadata": {},
   "source": [
    "# Sjekke matrise / Check matrix"
   ]
  },
  {
   "cell_type": "markdown",
   "id": "5dcc5f9a",
   "metadata": {},
   "source": [
    "Funksjonen **is_unit_matrix(A)** skal sjekke om **A** - en matrise representert som en liste av lister - er en enhetsmatrise eller ikke. En enhetsmatrise er en matrise hvor\n",
    "\n",
    "- antall rader er lik antall kolonner\n",
    "- alle tall i diagonalen fra øvre venstre til nedre høyre hjørne er 1. \n",
    "- alle øvrige tall er 0\n",
    "\n",
    "Funksjonen skal returnere **True** hvis **A** er en enhetsmatrise, ellers **False**. \n",
    "\n",
    " \n",
    "\n",
    "Eksempler på kjøring:\n",
    "\n",
    "```shell\n",
    ">>> is_unit_matrix([[1,0,0], [0,1,0], [0,0,1]])\n",
    "True\n",
    "\n",
    ">>> is_unit_matrix([[2,0,3], [1,2,3], [3,4,5]])\n",
    "False\n",
    "```\n",
    "\n",
    "Eksemplene viser matriser med 3 rader og 3 kolonner, men det kan være et vilkårlig antall rader og kolonner i matriser som gis inn til funksjonen. Du kan imidlertid anta at det alltid gis inn en matrise som kun består av heltall."
   ]
  },
  {
   "cell_type": "markdown",
   "id": "f9426ecd",
   "metadata": {},
   "source": [
    "**Oppgave**: Under vises kode for funksjonen **is_unit_matrix()**. Fyll inn det som mangler slik at funksjonen virker som beskrevet ovenfor."
   ]
  },
  {
   "cell_type": "code",
   "execution_count": 13,
   "id": "3d4ef90f",
   "metadata": {},
   "outputs": [],
   "source": [
    "def is_unit_matrix(A):\n",
    "    rows = len(A)\n",
    "    for i in range(rows):\n",
    "        if A[i] != [0] * i + [1] + [0] * (rows - i - 1):\n",
    "            return False\n",
    "    return True"
   ]
  },
  {
   "cell_type": "markdown",
   "id": "1474a2e3",
   "metadata": {},
   "source": [
    "Test:"
   ]
  },
  {
   "cell_type": "code",
   "execution_count": 14,
   "id": "0331aa28",
   "metadata": {},
   "outputs": [
    {
     "name": "stdout",
     "output_type": "stream",
     "text": [
      "True\n",
      "False\n"
     ]
    }
   ],
   "source": [
    "print(is_unit_matrix([[1,0,0], [0,1,0], [0,0,1]]))\n",
    "print(is_unit_matrix([[2,0,3], [1,2,3], [3,4,5]]))"
   ]
  },
  {
   "cell_type": "markdown",
   "id": "1a8a92f5",
   "metadata": {},
   "source": [
    "# Trappesteg "
   ]
  },
  {
   "attachments": {},
   "cell_type": "markdown",
   "id": "d3da5707",
   "metadata": {},
   "source": [
    "Vi ønsker å lage en funksjon som får inn matriser i form av todimensjonale lister i Python og sjekker om  de tilfredsstiller følgende krav: \n",
    "\n",
    "(i) matrisen må være kvadratisk, dvs. alle kolonner har like mange element som antall rader, \n",
    "\n",
    "(ii) alle elementer under diagonalen er lik 0, \n",
    "\n",
    "(iii) alle  elementer i diagonalen må være **ulik** 0. F.eks.  gitt matrisene\n",
    "\n",
    "\n",
    "![Screenshot_3.png](Screenshot_3.png)\n",
    "\n",
    " \n",
    "\n",
    "så vil A tilfredsstille disse kravene, mens B, C og D ikke gjør det (tallet vist med fet skrift indikerer avviket fra reglene).\n",
    "\n",
    " \n",
    "\n",
    "Nedenfor er vist nesten ferdig kode for en funksjon som kan sjekke om en matrise tilfredsstiller kravene. Den skal returnere **True** for korrekte matriser, ellers **False**.\n",
    "\n",
    " \n",
    "\n",
    "Fyll inn riktig kode der det mangler noe, slik at funksjonen vil virke som forutsatt."
   ]
  },
  {
   "cell_type": "code",
   "execution_count": 15,
   "id": "f17d7f22",
   "metadata": {},
   "outputs": [],
   "source": [
    "def check_echelon(M):\n",
    "    rows = len(M)\n",
    "    for i in range(rows):\n",
    "        if len(M[i]) != rows or M[i][i] == 0:\n",
    "            return False\n",
    "        elif M[i][0:i] != [0] * i:\n",
    "            return False \n",
    "    return True"
   ]
  },
  {
   "cell_type": "markdown",
   "id": "16732734",
   "metadata": {},
   "source": [
    "Test:"
   ]
  },
  {
   "cell_type": "code",
   "execution_count": 16,
   "id": "00d36289",
   "metadata": {},
   "outputs": [
    {
     "name": "stdout",
     "output_type": "stream",
     "text": [
      "True\n",
      "False\n",
      "False\n",
      "False\n"
     ]
    }
   ],
   "source": [
    "print(check_echelon([[1, -5, 8, -2], [0, 3, -2, 7], [0, 0, -3, 1], [0, 0, 0, -4]]))\n",
    "print(check_echelon([[1, -5, 8, -2], [0, 3, -2, 7], [0, 0, -3, 1], [3, 0, 0, -4]]))\n",
    "print(check_echelon([[0, -5, 8, -2], [0, 3, -2, 7], [0, 0, -3, 1], [0, 0, 0, -4]]))\n",
    "print(check_echelon([[1, -5, 8, -2], [0, 3, -2, 7, 9], [0, 0, -3, 1], [0, 0, 0, -4]]))"
   ]
  },
  {
   "cell_type": "markdown",
   "id": "f0d3b135",
   "metadata": {},
   "source": [
    "# Kopi av Looping in 2D lists / Løkker i 2D lister"
   ]
  },
  {
   "cell_type": "markdown",
   "id": "4356ef7a",
   "metadata": {},
   "source": [
    "**POENG: På dette spørsmålet får du +0.5 poeng per korrekt svar, -0.25 poeng per blankt eller ukorrekt svar.**\n",
    "\n",
    "Funksjonen **seq_in_tab()** skal ta to argumenter, pluss et valgfritt tredje argument. Funksjonen sjekker om en sekvens av tall  (det første argumentet) fins ved radvis gjennomgang av ei 2D liste (andre argument). For illustrasjon av hvordan funksjonen virker, anta at vi har følgende:\n",
    "\n",
    "\n",
    "![Screenshot_1.png](Screenshot_1.png)\n",
    "\n",
    "\n",
    "Med disse dataene, skal funksjonen **seq_in_tab()** gjøre som følger:\n",
    "\n",
    "- **seq_in_tab(S0,M)** skal returnere **False** (sekvensen 0,1,2 fins ikke i M)\n",
    "- **seq_in_tab(S1, M)** skal returnere **True** (1,2,3 fins i en av radene til M)\n",
    "- **seq_in_tab(S2, M)** skal returnere **False** (3,4,4 fins ikke, bare 3,4)\n",
    "- **seq_in_tab(S3, M)** skal returnere False. (7,8,10,12 fins, men bare hvis man slår sammen flere rader). Men, dersom vi gir inn det tredje argumentet som True:\n",
    "- **seq_in_tab(S3, M, True)** skal returnere **True**. Dvs., å gi inn det tredje argumentet som True, innebærer at funksjonen skal akseptere også sekvenser som går over flere linjer.\n",
    "- **seq_in_tab(S4, M, True)** skal returnere **False**. Selv om alle tallene fins i M, står de ikke ved siden av hverandre. Dvs., for å være akseptabel må en sekvens finnes ved radvis gjennomgang av 2D-lista, ikke kolonnevis.\n",
    "\n",
    "**Oppgave: Velg alternativer for det som mangler i koden under slik at funksjonen virker som forklart over.**"
   ]
  },
  {
   "cell_type": "code",
   "execution_count": 17,
   "id": "9a87d307",
   "metadata": {},
   "outputs": [],
   "source": [
    "def seq_in_tab(S, M, wrap=False):\n",
    "    ct = 0\n",
    "    for i in range(len(M)):\n",
    "        for j in range(len(M[i])):\n",
    "            if M[i][j] in S:\n",
    "                ct += 1\n",
    "                if ct == len(S):\n",
    "                    return True\n",
    "            else:\n",
    "                ct = 0\n",
    "        if not wrap:\n",
    "            return False\n",
    "    return False"
   ]
  },
  {
   "cell_type": "markdown",
   "id": "0a5c5f5a",
   "metadata": {},
   "source": [
    "Test:"
   ]
  },
  {
   "cell_type": "code",
   "execution_count": 18,
   "id": "773848e1",
   "metadata": {},
   "outputs": [
    {
     "name": "stdout",
     "output_type": "stream",
     "text": [
      "False\n",
      "True\n",
      "False\n",
      "False\n",
      "True\n",
      "False\n"
     ]
    }
   ],
   "source": [
    "M = [[1,2,3,4], [5,6,7,8], [10, 12, 0, 14]]\n",
    "S0 = [0,1,2]\n",
    "S1 = [1,2,3,4]\n",
    "S2 = [3,4,4]\n",
    "S3 = [7,8,10,12]\n",
    "S4 = [3,7,0]\n",
    "\n",
    "print(seq_in_tab(S0, M))\n",
    "print(seq_in_tab(S1, M))\n",
    "print(seq_in_tab(S2, M))\n",
    "print(seq_in_tab(S3, M))\n",
    "print(seq_in_tab(S3, M, True))\n",
    "print(seq_in_tab(S4, M, True))"
   ]
  },
  {
   "cell_type": "markdown",
   "id": "6034ce50",
   "metadata": {},
   "source": [
    "# Strengelek 2"
   ]
  },
  {
   "cell_type": "markdown",
   "id": "e02a4e4f",
   "metadata": {},
   "source": [
    "Funksjonen **f(streng)** får inn som parameter en **streng av vilkårlig lengde**. Alle tegn i strengen kan antas å være små bokstaver i det latinske alfabetet, dvs. 'a' - 'z' . Funksjonen skal\n",
    "\n",
    "- returnere en streng med de samme tegnene, men\n",
    "- i den returnerte strengen skal tegn som er identiske med tegnet rett foran være fjernet, slik at det aldri kommer to like tegn rett etter hverandre. F.eks.\n",
    "  - 'abcda' -> 'abcda'\n",
    "  - 'aabcabbbbccbbc' -> 'abcabcbc'\n",
    "  \n",
    "Test cases:\n",
    "\n",
    "| Test case # | Input       | Forventet output |\n",
    "|-------------|-------------|------------------|\n",
    "| 1           | a | a               |\n",
    "| 2           | abcda | abcda               |\n",
    "| 3           | abbcddaabba | abcdaba                |\n",
    "| 4           |aabbbbcddaa | abcda               |"
   ]
  },
  {
   "cell_type": "code",
   "execution_count": 19,
   "id": "fb4d2327",
   "metadata": {},
   "outputs": [],
   "source": [
    "def f(streng):\n",
    "    if len(streng) == 0:\n",
    "        return ''\n",
    "    \n",
    "    st = streng[0]\n",
    "    i = 1\n",
    "    while i < len(streng):\n",
    "        j = i\n",
    "        lengde = 1\n",
    "        while streng[j] == st[-1] and j < len(streng) - 1:\n",
    "            j += 1\n",
    "            lengde += 1\n",
    "        st += streng[j] if streng[j] != st[-1] else ''\n",
    "        i += lengde\n",
    "    \n",
    "    return st"
   ]
  },
  {
   "cell_type": "markdown",
   "id": "888303bf",
   "metadata": {},
   "source": [
    "Test:"
   ]
  },
  {
   "cell_type": "code",
   "execution_count": 20,
   "id": "5ebafb12",
   "metadata": {
    "scrolled": true
   },
   "outputs": [
    {
     "name": "stdout",
     "output_type": "stream",
     "text": [
      "a\n",
      "abcda\n",
      "abcdaba\n",
      "abcda\n"
     ]
    }
   ],
   "source": [
    "print(f('a'))\n",
    "print(f('abcda'))\n",
    "print(f('abbcddaabba'))\n",
    "print(f('aabbbbcddaa'))"
   ]
  },
  {
   "cell_type": "markdown",
   "id": "f4ad9d61",
   "metadata": {},
   "source": [
    "# Tekst for tall, del (a): to siffer"
   ]
  },
  {
   "cell_type": "markdown",
   "id": "56bf4318",
   "metadata": {},
   "source": [
    "Firmaer som setter opp kjøpskontrakter har ofte behov for å oppgi beløpet som skal betales både med tall og tekst. Store beløp blir en lang tekst og ansatte har lett for å skrive feil slik at tall og tekst ikke stemmer overens. Man ønsker derfor et program som automatisk kan oversette tall til tekst. I denne oppgaven skal tallene omformes til engelsk tekst.\n",
    "\n",
    "Du kan anta at det ordboka D allerede er opprettet som en global variabel som du kan benytte deg av i koden din hvis du ønsker det. Den har innholdet:\n",
    "\n",
    "- D = {0: 'zero', 1: 'one', 2: 'two', 3: 'three', 4: 'four', 5: 'five', 6: 'six', 7: 'seven', 8: 'eight', 9: 'nine', 10: 'ten', 11: 'eleven', 12: 'twelve', 13: 'thirteen', 14: 'fourteen', 15: 'fifteen', 16: 'sixteen', 17: 'seventeen', 18: 'eighteen', 19: 'nineteen', 20: 'twenty', 30: 'thirty', 40: 'forty', 50: 'fifty', 60: 'sixty', 70: 'seventy', 80: 'eighty', 90: 'ninety'}"
   ]
  },
  {
   "cell_type": "markdown",
   "id": "dca4e322",
   "metadata": {},
   "source": [
    "**(a):** Skriv en funksjon **i2_txt(tall)** som kan ta som argument et positivt heltall med maksimalt to siffer, og som returnerer tallet som tilsvarende engelsk tekst. Eksempel på kjøring:\n",
    "\n",
    "```shell\n",
    ">>> i2_txt(5)\n",
    "\n",
    "'five'\n",
    "\n",
    ">>> i2_txt(30)\n",
    "\n",
    "'thirty'\n",
    "\n",
    ">>>i2_txt(68)\n",
    "\n",
    "'sixty-eight'\n",
    "```\n",
    "\n",
    "Test cases:\n",
    "\n",
    "| Test case # | Input       | Forventet output |\n",
    "|-------------|-------------|------------------|\n",
    "| 1           | 5 | five               |\n",
    "| 2           | 30 | thirty               |\n",
    "| 3           | 68 | sixty-eight                |"
   ]
  },
  {
   "cell_type": "code",
   "execution_count": 21,
   "id": "5efe90ca",
   "metadata": {},
   "outputs": [],
   "source": [
    "D = {\n",
    "    0: 'zero', 1: 'one', 2: 'two', 3: 'three', 4: 'four', 5: 'five', 6: 'six', 7: 'seven', 8: 'eight', 9: 'nine', \n",
    "    10: 'ten', 11: 'eleven', 12: 'twelve', 13: 'thirteen', 14: 'fourteen', 15: 'fifteen', 16: 'sixteen', 17: 'seventeen', \n",
    "    18: 'eighteen', 19: 'nineteen', 20: 'twenty', 30: 'thirty', 40: 'forty', 50: 'fifty', 60: 'sixty', 70: 'seventy',\n",
    "    80: 'eighty', 90: 'ninety'\n",
    "}\n",
    "\n",
    "def i2_txt(tall):\n",
    "    if tall <= 20:\n",
    "        return D[tall]\n",
    "    \n",
    "    tier = tall // 10 * 10\n",
    "    ener = tall % 10\n",
    "    if tier == 0:\n",
    "        return D[ener]\n",
    "    if ener == 0:\n",
    "        return D[tall]\n",
    "    \n",
    "    return D[tier] + '-' + D[ener]"
   ]
  },
  {
   "cell_type": "markdown",
   "id": "fe5fccf8",
   "metadata": {},
   "source": [
    "Test:"
   ]
  },
  {
   "cell_type": "code",
   "execution_count": 22,
   "id": "3d2485df",
   "metadata": {},
   "outputs": [
    {
     "name": "stdout",
     "output_type": "stream",
     "text": [
      "five\n",
      "thirty\n",
      "sixty-eight\n",
      "twelve\n"
     ]
    }
   ],
   "source": [
    "print(i2_txt(5))\n",
    "print(i2_txt(30))\n",
    "print(i2_txt(68))\n",
    "print(i2_txt(12))"
   ]
  },
  {
   "cell_type": "markdown",
   "id": "7a63902d",
   "metadata": {},
   "source": [
    "**(b):** Skriv en funksjon i3_txt(tall) som kan ta som argument et positivt heltall med maksimalt 3 siffer, og som returnerer tallet som tilsvarende engelsk tekst. Eksempel på kjøring:\n",
    "\n",
    "```shell\n",
    ">>>i3_txt(68)\n",
    "\n",
    "'sixty-eight'\n",
    "\n",
    ">>>i3_txt(100)\n",
    "\n",
    "'one hundred'\n",
    "\n",
    ">>>i3_txt(345)\n",
    "\n",
    "'three hundred forty-five'\n",
    "```\n",
    "\n",
    "Hvis tallet har to eller færre siffer, skal funksjonen virke på samme måte som den forrige i2_txt(), og hvis du vil, kan du kopiere løsningen din fra oppgave (a) og bruke videre som del av løsningen på oppgave (b).\n",
    "\n",
    "Test cases:\n",
    "\n",
    "| Test case # | Input       | Forventet output |\n",
    "|-------------|-------------|------------------|\n",
    "| 1           | 68 | sixty-eight               |\n",
    "| 2           | 100 | one hundred               |\n",
    "| 3           | 345 | three hundred forty-five                |"
   ]
  },
  {
   "cell_type": "code",
   "execution_count": 23,
   "id": "c71dbafd",
   "metadata": {},
   "outputs": [],
   "source": [
    "D = {\n",
    "    0: 'zero', 1: 'one', 2: 'two', 3: 'three', 4: 'four', 5: 'five', 6: 'six', 7: 'seven', 8: 'eight', 9: 'nine', \n",
    "    10: 'ten', 11: 'eleven', 12: 'twelve', 13: 'thirteen', 14: 'fourteen', 15: 'fifteen', 16: 'sixteen', 17: 'seventeen', \n",
    "    18: 'eighteen', 19: 'nineteen', 20: 'twenty', 30: 'thirty', 40: 'forty', 50: 'fifty', 60: 'sixty', 70: 'seventy',\n",
    "    80: 'eighty', 90: 'ninety'\n",
    "}\n",
    "\n",
    "def i3_txt(tall):\n",
    "    if len(str(tall)) <= 2:\n",
    "        return i2_txt(tall)\n",
    "    \n",
    "    hundre = tall // 100\n",
    "    \n",
    "    if tall % 100 == 0:\n",
    "        return D[hundre] + ' hundred'\n",
    "    \n",
    "    return D[hundre] + ' hundred' + ' ' + i2_txt(tall - hundre*100) "
   ]
  },
  {
   "cell_type": "markdown",
   "id": "faae7ca3",
   "metadata": {},
   "source": [
    "Test:"
   ]
  },
  {
   "cell_type": "code",
   "execution_count": 24,
   "id": "5a27c0f9",
   "metadata": {},
   "outputs": [
    {
     "name": "stdout",
     "output_type": "stream",
     "text": [
      "sixty-eight\n",
      "one hundred\n",
      "three hundred forty-five\n"
     ]
    }
   ],
   "source": [
    "print(i3_txt(68))\n",
    "print(i3_txt(100))\n",
    "print(i3_txt(345))"
   ]
  },
  {
   "cell_type": "markdown",
   "id": "329ded3d",
   "metadata": {},
   "source": [
    "# Tekst for tall, del (c): 9 siffer"
   ]
  },
  {
   "cell_type": "markdown",
   "id": "8cdfab34",
   "metadata": {},
   "source": [
    "**(c):** Skriv en funksjon **i9_txt(tall)** som kan ta som argument et positivt heltall med maksimalt ni siffer (dvs. 1 <= tall <= 999999999), og som returnerer tilsvarende engelsk tekst for tallet. Eksempel på kjøring:\n",
    "\n",
    "```shell\n",
    ">>> i9_txt(12000)\n",
    "\n",
    "'twelve thousand'\n",
    "\n",
    ">>> i9_txt(276900)\n",
    "\n",
    "'two hundred seventy-six thousand nine hundred'\n",
    "\n",
    ">>> i9_txt(67000020)\n",
    "\n",
    "'sixty-seven million twenty'\n",
    "```\n",
    " \n",
    "\n",
    "Hvis du vil, kan du kopiere koden din for i2_txt() og i3_txt() fra de foregående deloppgavene inn og bruke som hjelpefunksjoner i løsningen for denne oppgaven. Du kan også anta at det allerede er opprettet som globale variable en ordbok D (som nevnt tidligere) og et tuppel T. Innholdet i T er:\n",
    "\n",
    "- T = (1000000, ' million', 1000, ' thousand', 1, '')\n",
    "- bakerste element i T er tom streng, strengene på indeks 1 og 3 starter med mellomrom\n",
    "\n",
    "Det er opp til deg om du ønsker å bruke D og T i løsningen din eller ikke."
   ]
  },
  {
   "cell_type": "code",
   "execution_count": 25,
   "id": "744b4c9c",
   "metadata": {},
   "outputs": [],
   "source": [
    "D = {0: 'zero', 1: 'one', 2: 'two', 3: 'three', 4: 'four', 5: 'five',\n",
    "6: 'six', 7: 'seven', 8: 'eight', 9: 'nine', 10: 'ten',\n",
    "11: 'eleven', 12: 'twelve', 13: 'thirteen', 14: 'fourteen',\n",
    "15: 'fifteen', 16: 'sixteen', 17: 'seventeen',\n",
    "18: 'eighteen', 19: 'nineteen', 20: 'twenty', 30: 'thirty',\n",
    "40: 'forty', 50: 'fifty', 60: 'sixty', 70: 'seventy',\n",
    "80: 'eighty', 90: 'ninety'}\n",
    "T = (1000000, ' million', 1000, ' thousand', 1, '')\n",
    "\n",
    "def i9_txt(tall):\n",
    "    if len(str(tall)) <= 3:\n",
    "        return i3_txt(tall)\n",
    "    \n",
    "    final_st = ''\n",
    "    million = tall // T[0]\n",
    "    \n",
    "    if million != 0:\n",
    "        final_st += i3_txt(million) + T[1] + ' '\n",
    "    \n",
    "    tall = tall % T[0]\n",
    "    thousand = tall // T[2]\n",
    "    \n",
    "    if thousand != 0:\n",
    "        final_st += i3_txt(thousand) + T[3] + ' '\n",
    "        \n",
    "    tall = tall % T[2]\n",
    "    \n",
    "    if tall == 0:\n",
    "        return final_st if final_st[-1] != ' ' else final_st[:-1]\n",
    "    \n",
    "    final_st = final_st + i3_txt(tall)\n",
    "    return final_st if final_st[-1] != ' ' else final_st[:-1]"
   ]
  },
  {
   "cell_type": "markdown",
   "id": "0522594d",
   "metadata": {},
   "source": [
    "Test:"
   ]
  },
  {
   "cell_type": "code",
   "execution_count": 26,
   "id": "9f9c6f25",
   "metadata": {},
   "outputs": [
    {
     "name": "stdout",
     "output_type": "stream",
     "text": [
      "twelve thousand\n",
      "two hundred seventy-six thousand nine hundred\n",
      "sixty-seven million twenty\n"
     ]
    }
   ],
   "source": [
    "print(i9_txt(12000))\n",
    "print(i9_txt(276900))\n",
    "print(i9_txt(67000020)) "
   ]
  },
  {
   "cell_type": "markdown",
   "id": "f3b13879",
   "metadata": {},
   "source": [
    "# Strengelek 3"
   ]
  },
  {
   "cell_type": "markdown",
   "id": "6cca288e",
   "metadata": {},
   "source": [
    "Funksjonen **f(streng)** får inn som parameter en **streng av vilkårlig lengde**. Alle tegn i strengen kan antas å være små bokstaver i det latinske alfabetet, dvs. 'a' - 'z' . Funksjonen skal\n",
    "\n",
    "- returnere en streng med de samme tegnene, men hvor\n",
    "- hver forekomst av tegnet 'a' i strengen skal bli doblet, bortsett fra hvis det allerede sto to eller flere 'a''er på rad\n",
    "- hver forekomst av tegnet 'b' i strengen skal bli triplet, med mindre det allerede sto tre eller flere b'er på rad. \n",
    "- Eksempler på ønsket resultat\n",
    "  - 'cdef' -> 'cdef'\n",
    "  - 'aabbb' -> 'aabbb'\n",
    "  - 'abb' -> 'aabbbbbb', begge b'ene triples, vi får 6 b'er (unngås kun hvis det fra før var >=3 på rad)\n",
    "  - 'abcda' -> 'aabbbcdaa'\n",
    "  - 'abaabbbcdb' -> 'aabbbaabbbcdbbb'"
   ]
  },
  {
   "cell_type": "code",
   "execution_count": 27,
   "id": "ae1b0973",
   "metadata": {},
   "outputs": [],
   "source": [
    "# Dette er en veldig tacky løsning, men det fungerer.\n",
    "\n",
    "def f2(streng):\n",
    "    if 'a' not in streng and 'b' not in streng:\n",
    "        return streng\n",
    "    \n",
    "    st = ''\n",
    "    i = 0\n",
    "    while i < len(streng):\n",
    "\n",
    "        ch = streng[i]\n",
    "\n",
    "        count = 0\n",
    "        j = i\n",
    "        st += streng[i]\n",
    "        \n",
    "        while j < len(streng) and streng[j] == 'a':\n",
    "            count += 1\n",
    "            j += 1\n",
    "        \n",
    "        if count >= 2:\n",
    "            # print(streng, count)\n",
    "            st += streng[i+1:count+i]\n",
    "            i += 2\n",
    "            continue\n",
    "            \n",
    "        if count == 1:\n",
    "            st += 'a'\n",
    "            i += 1\n",
    "            continue\n",
    "        \n",
    "        while j < len(streng) and streng[j] == 'b':\n",
    "            count += 1\n",
    "            j += 1\n",
    "        \n",
    "        if count >= 3:\n",
    "            st += streng[i+1:count+i]\n",
    "            i += 3\n",
    "            continue\n",
    "            \n",
    "        if 0 < count < 3:\n",
    "            st += 'bb'\n",
    "            i += 1\n",
    "            continue\n",
    "        \n",
    "        i += 1\n",
    "\n",
    "    return st if st != '' else streng"
   ]
  },
  {
   "cell_type": "markdown",
   "id": "b3f98dfd",
   "metadata": {},
   "source": [
    "Test: "
   ]
  },
  {
   "cell_type": "code",
   "execution_count": 28,
   "id": "f7efecaa",
   "metadata": {},
   "outputs": [
    {
     "name": "stdout",
     "output_type": "stream",
     "text": [
      "cdef\n",
      "aabbb\n",
      "aabbbcdaa\n",
      "aabbbaabbbcdbbb\n",
      "aabbbbbb\n"
     ]
    }
   ],
   "source": [
    "print(f2('cdef'))\n",
    "print(f2('aabbb'))\n",
    "print(f2('abcda'))\n",
    "print(f2('abaabbbcdb'))\n",
    "print(f2('abb'))"
   ]
  },
  {
   "cell_type": "markdown",
   "id": "2e3c2ad5",
   "metadata": {},
   "source": [
    "# Tekst for tall, del (d): Legge til i setninger"
   ]
  },
  {
   "cell_type": "markdown",
   "id": "ae5cd19e",
   "metadata": {},
   "source": [
    "Skriv en funksjon **add_words(setn)** som kan ta inn som argument en setning (tekststreng) som potensielt inneholder ett eller flere beløp gitt som en serie siffer, og returnere samme setning med tekstlige varianter av beløpene innskutt bak tallet omsluttet av parenteser. Hvis man ikke finner noen tall, skal setningen være uendret. Du kan anta at det kun er snakk om heltall, ikke beløp med desimaler, og at tallene er gitt som en sammenhengende serie av siffer, uten noe mellomrom, punktum eller komma inne i tallet. Eksempler på bruk:\n",
    "\n",
    "```shell\n",
    ">>> add_words('The court concludes that Mr. X has embezzled funds.')\n",
    "\n",
    "'The court concludes that Mr. X has embezzled funds.'\n",
    "\n",
    ">>> add_words('Mr. X shall pay 9005100 dollars')\n",
    "\n",
    "'Mr. X shall pay 9005100 (nine million five thousand one hundred) dollars'\n",
    "\n",
    ">>> add_words('C owes 91 pounds to D and 55 pounds to E')\n",
    "\n",
    "'C owes 91 (ninety-one) pounds to D and 55 (fifty-five) pounds to E'\n",
    "\n",
    ">>> add_words('The evildoer is hereby fined 945000000 yen')\n",
    "\n",
    "'The evildoer is hereby fined 945000000 (nine-hundred forty-five million) yen'\n",
    "```\n",
    "\n",
    "Test cases:\n",
    "\n",
    "| Test case # | Input       | Forventet output |\n",
    "|-------------|-------------|------------------|\n",
    "| 1           | Mr. X is guilty | Mr. X is guilty               |\n",
    "| 2           | Mr. X shall pay 9005100 dollars | Mr. X shall pay 9005100 (nine million five thousand one hundred) dollars              |\n",
    "| 3           | C owes 91 pounds to D and 55 pounds to E | C owes 91 (ninety-one) pounds to D and 55 (fifty-five) pounds to E                |\n",
    "| 4 | \tThe evildoer is hereby fined 945000000 yen | The evildoer is hereby fined 945000000 (nine hundred forty-five million) yen |"
   ]
  },
  {
   "cell_type": "code",
   "execution_count": 29,
   "id": "f3724792",
   "metadata": {},
   "outputs": [],
   "source": [
    "def add_words(setn):\n",
    "    l = setn.split(' ')\n",
    "    new_l = []\n",
    "    for i in range(len(l)):\n",
    "        try:\n",
    "            tall_as_word = i9_txt(int(l[i]))\n",
    "            new_l.append(l[i])\n",
    "            new_l.append(\"(\" + tall_as_word + \")\")\n",
    "        except ValueError as e:\n",
    "            new_l.append(l[i])\n",
    "    return ' '.join(new_l)"
   ]
  },
  {
   "cell_type": "markdown",
   "id": "bf328487",
   "metadata": {},
   "source": [
    "Test:"
   ]
  },
  {
   "cell_type": "code",
   "execution_count": 30,
   "id": "e4dc60bc",
   "metadata": {},
   "outputs": [
    {
     "name": "stdout",
     "output_type": "stream",
     "text": [
      "Mr. X is guilty\n",
      "Mr. X shall pay 9005100 (nine million five thousand one hundred) dollars\n",
      "C owes 91 (ninety-one) pounds to D and 55 (fifty-five) pounds to E\n",
      "The evildoer is hereby fined 945000000 (nine hundred forty-five million) yen\n"
     ]
    }
   ],
   "source": [
    "print(add_words('Mr. X is guilty'))\n",
    "print(add_words('Mr. X shall pay 9005100 dollars'))\n",
    "print(add_words('C owes 91 pounds to D and 55 pounds to E'))\n",
    "print(add_words('The evildoer is hereby fined 945000000 yen'))"
   ]
  },
  {
   "cell_type": "markdown",
   "id": "c93766ec",
   "metadata": {},
   "source": [
    "# Kopi av Polynomledd / Polynomial terms"
   ]
  },
  {
   "cell_type": "markdown",
   "id": "3a2ebbcd",
   "metadata": {},
   "source": [
    "Funksjonen **poly_part(c, n)** skal ta inn **c** (heltall) og **n** (heltall  0).\n",
    "\n",
    "Den skal returnere en streng for uttrykket **cx^n**  i Python-syntaks.\n",
    "\n",
    "Hvis **c** er 0, skal funksjonen returnere en tom streng.\n",
    "\n",
    "Eksempel på kjøring: \n",
    "\n",
    "![Screenshot_2.png](Screenshot_2.png)\n",
    "\n",
    "**Oppgave:** Velg riktig i de seks feltene nedenfor slik at funksjonen virker korrekt."
   ]
  },
  {
   "cell_type": "code",
   "execution_count": 31,
   "id": "4f655e32",
   "metadata": {},
   "outputs": [],
   "source": [
    "def poly_part(c, n):\n",
    "    result = \"\"\n",
    "    if c != 0:\n",
    "        if n == 0:\n",
    "            result = str(c) \n",
    "        else:\n",
    "            if c == -1:\n",
    "                return \"-x**\" + str(n) \n",
    "            elif c == 1:\n",
    "                result = \"x\"\n",
    "            elif abs(c) > 1:\n",
    "                result = str(c) + \"*x\"\n",
    "            if n > 1:\n",
    "                result += \"**\" + str(n)\n",
    "    return result"
   ]
  },
  {
   "cell_type": "markdown",
   "id": "51db6704",
   "metadata": {},
   "source": [
    "Test:"
   ]
  },
  {
   "cell_type": "code",
   "execution_count": 32,
   "id": "56a0d101",
   "metadata": {},
   "outputs": [
    {
     "name": "stdout",
     "output_type": "stream",
     "text": [
      "3*x**5\n",
      "\n",
      "x**4\n",
      "-3*x**3\n",
      "7\n",
      "4*x\n"
     ]
    }
   ],
   "source": [
    "print(poly_part(3, 5))\n",
    "print(poly_part(0, 2))\n",
    "print(poly_part(1, 4))\n",
    "print(poly_part(-3, 3))\n",
    "print(poly_part(7, 0))\n",
    "print(poly_part(4, 1))"
   ]
  },
  {
   "cell_type": "markdown",
   "id": "13adeb3e",
   "metadata": {},
   "source": [
    "# Lage streng / Make string"
   ]
  },
  {
   "cell_type": "markdown",
   "id": "a719f173",
   "metadata": {},
   "source": [
    "Funksjonen **poly_str(lst)** får inn ei liste **lst** med heltall og returnerer en streng i Python-syntaks for et polynomuttrykk. **poly_str()** bruker **poly_part()** som ble beskrevet i forrige oppgave. En kjapp repetisjon av hva poly_part() gjør så du slipper å bla tilbake:\n",
    "\n",
    "- poly_part(3,5) returnerer strengen \"3*x**5\"\n",
    "- poly_part(-1,2) returnerer strengen \"-x**2\"\n",
    "\n",
    "Krav til løsningen:\n",
    "\n",
    "- Ledd som er 0 skal ikke være med i uttrykket (f.eks. ikke ta med \"0*x\").\n",
    "- Tallet 1 skal ikke skrives i utide (f.eks. bare skrive \"x\", ikke \"1*x\").\n",
    "- Potensoperator ** skal bare med for potens  2.\n",
    "\n",
    "Du kan anta at lista som gis inn aldri er tom, og aldri inneholder noe annet enn heltall.\n",
    "\n",
    "Eksempel på kjøring:\n",
    "\n",
    "![Screenshot_4.png](Screenshot_4.png)\n"
   ]
  },
  {
   "cell_type": "code",
   "execution_count": 33,
   "id": "1addb7a1",
   "metadata": {},
   "outputs": [],
   "source": [
    "def poly_str(lst):\n",
    "    result = \"\"\n",
    "    for p in range(len(lst)):\n",
    "        num = lst[-1-p]\n",
    "        if num != 0:\n",
    "            part = poly_part(num, p)\n",
    "            if result == \"\" or result[0] == \"-\":\n",
    "                result = part + result\n",
    "            else:\n",
    "                result = part + \"+\" + result\n",
    "    return result"
   ]
  },
  {
   "cell_type": "code",
   "execution_count": 34,
   "id": "4a333d65",
   "metadata": {},
   "outputs": [
    {
     "name": "stdout",
     "output_type": "stream",
     "text": [
      "-x**6+2*x**5-3*x+7\n",
      "5\n",
      "2*x\n"
     ]
    }
   ],
   "source": [
    "print(poly_str([-1, 2, 0, 0, 0, -3, 7]))\n",
    "print(poly_str([5]))\n",
    "print(poly_str([2, 0]))"
   ]
  },
  {
   "cell_type": "markdown",
   "id": "6677afbc",
   "metadata": {},
   "source": [
    "# Skriv til fil"
   ]
  },
  {
   "cell_type": "markdown",
   "id": "f90522bb",
   "metadata": {},
   "source": [
    "Anta at vi har ei liste av lister, eksempel på innhold er:\n",
    "\n",
    "L = [ [1, 1],\n",
    "      [ -1, 2, 0, 0, 0, 3, 7],\n",
    "      [2, 5, 4],\n",
    "      [3, 0, 0, 2]\n",
    "    ]\n",
    "\n",
    "Lag en funksjon **skriv_fil(L)** som virker på følgende måte:\n",
    "\n",
    "- funksjonen skal først be brukeren om å taste inn filnavn\n",
    "- hvis brukeren gir et filnavn som ender på **.txt** skal det skrives ei tekstfil\n",
    "- hvis brukeren gir et filnavn som ender på **.dat** skal det skrives ei binærfil\n",
    "- hvis brukeren ikke oppgir noen av disse to endelsene, skal programmet eksplisitt spørre om det ønskes tekstfil eller binærfil, f.eks. \"Tekstfil (T) eller binærfil (B)? \" og automatisk legge til .txt eller .dat bakerst i filnavnet basert på brukerens svar. Eksempel på fire kjøringer av funksjonen (hvor den siste ender med retur av False fordi den oppgitte filkatalogen ikke eksisterer):\n",
    "\n",
    "![Screenshot_5.png](Screenshot_5.png)\n",
    "\n",
    "For binærfil kan lista lagres direkte på den formen den har. For tekstfil skal den lagres med tallene separert med semikolon. Eksemplet ovenfor ville dermed på den skrevne tekstfila bli:\n",
    "\n",
    "1;1\n",
    "\n",
    "-1;2;0;0;0;3;7\n",
    "\n",
    "2;5;4\n",
    "\n",
    "3;0;0;2\n",
    "\n",
    "For å få full pott må koden inkludere unntaksbehandling i tilfelle noe går galt med skriving til fil. Hvis skrivingen er vellykket, skal funksjonen returnere True, ellers skal den returnere False."
   ]
  },
  {
   "cell_type": "code",
   "execution_count": 35,
   "id": "84a63340",
   "metadata": {},
   "outputs": [],
   "source": [
    "import pickle\n",
    "\n",
    "def skriv_fil(L):\n",
    "    filnavn = input(\"Skriv inn et filnavn: \")\n",
    "\n",
    "    if not filnavn.endswith(\".txt\") and not filnavn.endswith('.dat'):\n",
    "        filending = input(\"Tekstfil (T) eller binærfil (B)? \")\n",
    "        if filending.lower() == \"b\":\n",
    "            filending = \".dat\"\n",
    "        else:\n",
    "            filending = \".txt\"\n",
    "        filnavn += filending\n",
    "    else:\n",
    "        filending = filnavn[-4:]\n",
    "    \n",
    "    \n",
    "    try:\n",
    "        write_mode = \"w\"\n",
    "        if filending == \".dat\":\n",
    "            write_mode += \"b\"\n",
    "            \n",
    "        with open(filnavn, write_mode) as f:\n",
    "            if \"b\" in write_mode:\n",
    "                pickle.dump(L, f)\n",
    "            else:\n",
    "                st = ''\n",
    "                for i in range(len(L)):\n",
    "                    for j in range(len(L[i])):\n",
    "                        L[i][j] = str(L[i][j]) \n",
    "                        \n",
    "                for elem in L:\n",
    "                    f.writelines(';'.join(elem) + \"\\n\")\n",
    "        return True\n",
    "    except FileNotFoundError as e:\n",
    "        return False"
   ]
  },
  {
   "cell_type": "markdown",
   "id": "93b27e2e",
   "metadata": {},
   "source": [
    "Test:"
   ]
  },
  {
   "cell_type": "code",
   "execution_count": 36,
   "id": "fa7afcde",
   "metadata": {},
   "outputs": [
    {
     "name": "stdout",
     "output_type": "stream",
     "text": [
      "Skriv inn et filnavn: tall.txt\n",
      "True\n",
      "Skriv inn et filnavn: salgsdata.dat\n",
      "True\n",
      "Skriv inn et filnavn: ostedata\n",
      "Tekstfil (T) eller binærfil (B)? b\n",
      "True\n",
      "Skriv inn et filnavn: C:\\ost\\pstedata.dat\n",
      "False\n"
     ]
    }
   ],
   "source": [
    "L = [ [1, 1],\n",
    "      [ -1, 2, 0, 0, 0, 3, 7],\n",
    "      [2, 5, 4],\n",
    "      [3, 0, 0, 2]\n",
    "    ]\n",
    "print(skriv_fil(L))\n",
    "print(skriv_fil(L))\n",
    "print(skriv_fil(L))\n",
    "print(skriv_fil(L))"
   ]
  }
 ],
 "metadata": {
  "kernelspec": {
   "display_name": "Python 3 (ipykernel)",
   "language": "python",
   "name": "python3"
  },
  "language_info": {
   "codemirror_mode": {
    "name": "ipython",
    "version": 3
   },
   "file_extension": ".py",
   "mimetype": "text/x-python",
   "name": "python",
   "nbconvert_exporter": "python",
   "pygments_lexer": "ipython3",
   "version": "3.9.7"
  }
 },
 "nbformat": 4,
 "nbformat_minor": 5
}
