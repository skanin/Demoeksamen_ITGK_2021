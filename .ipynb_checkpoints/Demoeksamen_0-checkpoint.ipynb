{
 "cells": [
  {
   "cell_type": "markdown",
   "id": "f2674a37",
   "metadata": {},
   "source": [
    "# Merk at dette bare er et løsningsforslag. Det finnes mange forskjellige måter å løse oppgavene på."
   ]
  },
  {
   "cell_type": "markdown",
   "id": "0f7fb36d",
   "metadata": {},
   "source": [
    "# Oppgave 1: Palindrom, del (a) - enkeltord"
   ]
  },
  {
   "cell_type": "markdown",
   "id": "de6d59dd",
   "metadata": {},
   "source": [
    "En tekststreng er et **palindrom** dersom den blir det samme både forlengs og baklengs. Noen eksempler på palindrom er \"ada\", \"otto\", \"radar\", \"hannah\".\n",
    "\n",
    "Oppgave: Skriv en funksjon **palindrom(tekst)** som får inn som parameter en tekststreng, og som returnerer **True** hvis denne er et palindrom, **False** hvis ikke. Du kan anta at hele strengen kommer inn som små bokstaver. En streng med kun ett tegn er per def også et palindrom og skal gi **True**.\n",
    "\n",
    "Test cases:\n",
    "\n",
    "| Test case # | Input       | Forventet output |\n",
    "|-------------|-------------|------------------|\n",
    "| 1           | a | True               |\n",
    "| 2           | aha | True               |\n",
    "| 3           | ahaa | False                |\n",
    "| 4           | radar            | True                 |\n",
    "| 5           | radarr            | False                 |"
   ]
  },
  {
   "cell_type": "code",
   "execution_count": 1,
   "id": "3e549b89",
   "metadata": {},
   "outputs": [],
   "source": [
    "def palindrom(tekst):\n",
    "    return tekst[::-1].lower() == tekst.lower()"
   ]
  },
  {
   "cell_type": "markdown",
   "id": "090d8479",
   "metadata": {},
   "source": [
    "Test:"
   ]
  },
  {
   "cell_type": "code",
   "execution_count": 2,
   "id": "3a8a2b0d",
   "metadata": {
    "scrolled": true
   },
   "outputs": [
    {
     "name": "stdout",
     "output_type": "stream",
     "text": [
      "True\n",
      "True\n",
      "False\n",
      "True\n",
      "False\n"
     ]
    }
   ],
   "source": [
    "print(palindrom('a'))\n",
    "print(palindrom('aha'))\n",
    "print(palindrom('ahaa'))\n",
    "print(palindrom('radar'))\n",
    "print(palindrom('radarr'))"
   ]
  },
  {
   "cell_type": "markdown",
   "id": "3d4e5815",
   "metadata": {},
   "source": [
    "# Oppgave 2: Palindrom, del (b) - hele setninger\n",
    "\n",
    "Vi ønsker nå en funksjon som kan sjekke om en hel setning er et palindrom. Et eksempel på en slik setning er \"Ella redder alle.\", et annet er \"Anne var i Ravenna\". Lag en funksjon **pal(setning)** som returnerer **True** hvis setningen er et palindrom, **False** hvis den ikke er det. I denne funksjonen må det tas høyde for at det kan være både små og store bokstaver i setningen (de skal likevel regnes som samme bokstav), samt at det kan være mellomrom, komma eller punktum i setningen som skal ignoreres i vurderingen, jfr. at eksempelsetningene over regnes som palindromer til tross for punktum bakerst uten noe motsvarende punktum fremst.\n",
    "\n",
    "Test cases:\n",
    "\n",
    "| Test case # | Input       | Forventet output |\n",
    "|-------------|-------------|------------------|\n",
    "| 1           | \tElla redder alle. | True               |\n",
    "| 2           | Ella reddet alle. | False               |\n",
    "| 3           | Anne var i Ravenna. | True                |\n",
    "| 4           | \tAnne er i Ravenna.            | False                 |\n",
    "| 5           | \tDen ene tar apparatene ned.            | True                 |"
   ]
  },
  {
   "cell_type": "code",
   "execution_count": 3,
   "id": "54cd9d66",
   "metadata": {},
   "outputs": [],
   "source": [
    "def pal(setning):\n",
    "    return palindrom(setning.strip(\".,\").replace(\" \", \"\"))"
   ]
  },
  {
   "cell_type": "markdown",
   "id": "afa3e8ad",
   "metadata": {},
   "source": [
    "Test:"
   ]
  },
  {
   "cell_type": "code",
   "execution_count": 4,
   "id": "ee16a863",
   "metadata": {},
   "outputs": [
    {
     "name": "stdout",
     "output_type": "stream",
     "text": [
      "True\n",
      "False\n",
      "True\n",
      "False\n",
      "True\n"
     ]
    }
   ],
   "source": [
    "print(pal('Ella redder alle.'))\n",
    "print(pal('Ella reddet alle.'))\n",
    "print(pal('Anne var i Ravenna.'))\n",
    "print(pal('Anne er i Ravenna.'))\n",
    "print(pal('Den ene tar apparatene ned.'))"
   ]
  },
  {
   "cell_type": "markdown",
   "id": "0e0385cf",
   "metadata": {},
   "source": [
    "# Oppgave 3:  Number to string / Tall til streng (5%)\n",
    "\n",
    "**POENG: Dette spørsmålet gir 5 poeng dersom alt er korrekt, ellers +0.8 poeng per korrekt svar, ingen trekk for blanke eller feil svar.**\n",
    "\n",
    " \n",
    "\n",
    "Funksjonen **num2exp()** skal ta en integer >= 0 som argument og returnere en streng av eksponenttall (opphøyde heltall). Funksjonen må kunne håndtere tall på mer enn ett siffer. Eksempel på bruk:\n",
    "\n",
    "![Eksempel på kjøring](Screenshot_6.png)"
   ]
  },
  {
   "cell_type": "code",
   "execution_count": 5,
   "id": "120aa4a0",
   "metadata": {},
   "outputs": [],
   "source": [
    "# Her klarte jeg ikke få de i superscript, men det er det samme.\n",
    "\n",
    "def num2exp(num):\n",
    "    expo = '0123456789'\n",
    "    if num == 0:\n",
    "        result = '0'\n",
    "    else:\n",
    "        result = ''\n",
    "        while num > 0:\n",
    "            p = expo[num % 10]\n",
    "            result = p + result\n",
    "            num //= 10\n",
    "    return result"
   ]
  },
  {
   "cell_type": "markdown",
   "id": "13b77530",
   "metadata": {},
   "source": [
    "Test:"
   ]
  },
  {
   "cell_type": "code",
   "execution_count": 6,
   "id": "d2342b6e",
   "metadata": {},
   "outputs": [
    {
     "name": "stdout",
     "output_type": "stream",
     "text": [
      "0\n",
      "5\n",
      "13\n"
     ]
    }
   ],
   "source": [
    "print(num2exp(0))\n",
    "print(num2exp(5))\n",
    "print(num2exp(13))"
   ]
  },
  {
   "cell_type": "markdown",
   "id": "26385513",
   "metadata": {},
   "source": [
    "# Oppgave 4: Tuple to string / Tuppel til streng\n",
    "\n",
    "Funksjonen **fact_str(tup)** har tuppelet **tup** som parameter. **tup** har alltid to heltall (int)  > 0, der det første representerer mantissen til tallet og den andre representerer eksponenten. Funksjonen skal returnere et eksponentuttrykk som streng. Eksempel på bruk:\n",
    "\n",
    "![Eksempel på bruk](Screenshot_7.png)\n",
    "\n",
    "\n",
    "Som eksemplet i midten viser, skal strengen droppe eksponenten dersom den er 1.\n",
    "\n",
    "\n",
    "Skriv koden for funksjonen **fact_str(tup)** slik at den fungerer som gitt over.\n",
    "\n",
    "Du kan anta at det allerede fins en funksjon **num2exp()** som tar inn et heltall og returnerer tilsvarende eksponentstreng, f.eks. num2exp(1) -> '1'   ;  num2exp(44) -> '44'  og det anbefales at du bruker denne funksjonen i koden her."
   ]
  },
  {
   "cell_type": "code",
   "execution_count": 7,
   "id": "52f3af17",
   "metadata": {},
   "outputs": [],
   "source": [
    "# her igjen fikk jeg ikke til superscript, så jeg skriver superscripten som \"^x\"\n",
    "\n",
    "def fact_str(tup):\n",
    "    if tup[1] == 1:\n",
    "        return str(tup[0])\n",
    "    return str(tup[0]) + '^' + num2exp(tup[1])"
   ]
  },
  {
   "cell_type": "markdown",
   "id": "2c63dd5c",
   "metadata": {},
   "source": [
    "Test:"
   ]
  },
  {
   "cell_type": "code",
   "execution_count": 8,
   "id": "4f5302bb",
   "metadata": {},
   "outputs": [
    {
     "name": "stdout",
     "output_type": "stream",
     "text": [
      "2^3\n",
      "5\n",
      "3^44\n"
     ]
    }
   ],
   "source": [
    "print(fact_str((2,3)))\n",
    "print(fact_str((5,1)))\n",
    "print(fact_str((3,44)))"
   ]
  },
  {
   "cell_type": "markdown",
   "id": "e04c033f",
   "metadata": {},
   "source": [
    "# Oppgave 5: List to string / Liste til streng (5%)\n",
    "\n",
    "\n",
    "Funksjonen **expr(lst)** får inn som parameter **lst** som er ei liste av tuppel.  Fra denne lista skal den lage en streng av faktorer med multiplikasjonstegn ·  imellom, som vist i eksempel her:\n",
    "\n",
    "![Eksempel på kjøring](Screenshot_8.png)\n",
    "\n",
    "Som første eksempel viser, skal ei tom liste gi retur av tom streng.\n",
    "Multiplikasjonstegn skal bare bli plassert mellom faktorer.\n",
    "Dersom lista har innhold, kan du anta at det alltid er på korrekt form.\n",
    "\n",
    " \n",
    "\n",
    "Skriv kode for funksjonen **expr(lst)** slik at den fungerer som gitt over.\n",
    "\n",
    "Du kan anta at det allerede fins en funksjon  **fact_str()** som tar inn et tuppel med to heltall og returnerer tilsvarende eksponentuttrykk som streng, f.eks. fact_str((7,2)) -> '72', fact_str((11,13)f) -> '1113' og det anbefales at du bruker denne funksjonen i løsningen din. Dersom du har problem med å skrive inn multiplikasjonstegnet  · i koden , er det ok om du bruker et annet symbol i stedet, for eksempel *."
   ]
  },
  {
   "cell_type": "code",
   "execution_count": 9,
   "id": "b240d115",
   "metadata": {},
   "outputs": [],
   "source": [
    "def expr(lst):\n",
    "    return '*'.join([fact_str(tup) for tup in lst])\n",
    "\n",
    "# Eventuelt \n",
    "def expr2(lst):\n",
    "    lst2 = []\n",
    "    for elem in lst:\n",
    "        lst2.append(fact_str(elem))\n",
    "    return '*'.join(lst2)"
   ]
  },
  {
   "cell_type": "markdown",
   "id": "1657b60b",
   "metadata": {},
   "source": [
    "Test:"
   ]
  },
  {
   "cell_type": "code",
   "execution_count": 10,
   "id": "afa065ca",
   "metadata": {},
   "outputs": [
    {
     "name": "stdout",
     "output_type": "stream",
     "text": [
      "\n",
      "7^2\n",
      "2^2*3^2*11\n",
      "2^13*5*7^2\n",
      "\n",
      "7^2\n",
      "2^2*3^2*11\n",
      "2^13*5*7^2\n"
     ]
    }
   ],
   "source": [
    "print(expr([]))\n",
    "print(expr([(7,2)]))\n",
    "print(expr([(2,2), (3,2), (11,1)]))\n",
    "print(expr([(2,13), (5,1), (7,2)]))\n",
    "print(expr2([]))\n",
    "print(expr2([(7,2)]))\n",
    "print(expr2([(2,2), (3,2), (11,1)]))\n",
    "print(expr2([(2,13), (5,1), (7,2)]))"
   ]
  },
  {
   "cell_type": "markdown",
   "id": "7745cec4",
   "metadata": {},
   "source": [
    "# Oppgave 6:  Factorization / Faktorisering (6%)\n",
    "\n",
    "**POENG: På dette spørsmålet får du +0.6 poeng per korrekt svar, -0.3 poeng per blankt eller ukorrekt svar. Minimum for oppgaven totalt er 0.**\n",
    "\n",
    "Parameteren **num** i funksjonen **factors(num)** er et heltall (int)  >= 2.  Funksjonen skal returnere ei liste av tuppel som gir faktoriseringa av num i primtall. Eksempel på bruk:\n",
    "\n",
    "![Eksempel på kjøring](Screenshot_9.png)\n",
    "\n",
    "Som eksemplet viser, skal hvert tuppel i den returnerte lista ha to heltall, først faktoren, så eksponenten for den faktoren. \n",
    "\n",
    "F.eks. vil  **factors(60)** gi **[(2,2), (3,1), (5,1)]** fordi 60 = 2^2 · 3^1 · 5^1 , dvs. 2^2 · 3 · 5 ."
   ]
  },
  {
   "cell_type": "code",
   "execution_count": 11,
   "id": "74e506fc",
   "metadata": {},
   "outputs": [],
   "source": [
    "def factors(num):\n",
    "    result = []\n",
    "    d = 2\n",
    "    while d <= num :\n",
    "        if num % d == 0:\n",
    "            ct = 0\n",
    "            while num % d == 0:\n",
    "                ct += 1\n",
    "                num //= d\n",
    "            result.append((d, ct))\n",
    "        d += 1\n",
    "    return result"
   ]
  },
  {
   "cell_type": "markdown",
   "id": "ee800359",
   "metadata": {},
   "source": [
    "Test:"
   ]
  },
  {
   "cell_type": "code",
   "execution_count": 12,
   "id": "63816ef3",
   "metadata": {},
   "outputs": [
    {
     "name": "stdout",
     "output_type": "stream",
     "text": [
      "[(2, 1)]\n",
      "[(2, 2), (3, 1), (5, 1)]\n",
      "[(2, 5), (3, 1)]\n"
     ]
    }
   ],
   "source": [
    "print(factors(2))\n",
    "print(factors(60))\n",
    "print(factors(96))"
   ]
  },
  {
   "cell_type": "markdown",
   "id": "b82289c3",
   "metadata": {},
   "source": [
    "# Oppgave 7: String to dictionary / Streng til ordbok (5%)\n",
    "\n",
    "**POENG: På dette spørsmålet får du 5 poeng med alt rett, ellers +0.5 poeng per korrekt svar, ingen trekk for blanke eller ukorrekte svar. **\n",
    "\n",
    " \n",
    "\n",
    "Funksjonen str2dic() tar ett argument, en streng. Den skal returnere ei ordbok (dictionary) der\n",
    "\n",
    "nøklene er de ulike bokstavene som fins i strengen, og\n",
    "verdiene er lister av indekser hvor bokstaven forekommer i strengen\n",
    "Eksempel på bruk:\n",
    "\n",
    "![Eksempel på kjøring](Screenshot_10.png)\n",
    "\n",
    "For eksempel er **'N': [0,2]** med i ordboka fordi 'N' fins i strengen på indekser 0 og 2."
   ]
  },
  {
   "cell_type": "code",
   "execution_count": 13,
   "id": "52ceb5c5",
   "metadata": {},
   "outputs": [],
   "source": [
    "def str2dic(st):\n",
    "    dic = {}\n",
    "    for i in range(len(st)):\n",
    "        if st[i] in dic.keys():\n",
    "            dic[st[i]].append(i)\n",
    "        else:\n",
    "            dic[st[i]] = [i]\n",
    "            \n",
    "    return dic"
   ]
  },
  {
   "cell_type": "markdown",
   "id": "113d60ab",
   "metadata": {},
   "source": [
    "Test:"
   ]
  },
  {
   "cell_type": "code",
   "execution_count": 14,
   "id": "ab11d249",
   "metadata": {},
   "outputs": [
    {
     "data": {
      "text/plain": [
       "{'N': [0, 2], 'B': [1, 6], 'Q': [3], 'R': [4, 7], 'K': [5]}"
      ]
     },
     "execution_count": 14,
     "metadata": {},
     "output_type": "execute_result"
    }
   ],
   "source": [
    "str2dic('NBNQRKBR')"
   ]
  },
  {
   "cell_type": "markdown",
   "id": "61d5ec5d",
   "metadata": {},
   "source": [
    "# Oppgave 8: Boolean function / Boolsk funksjon (5%)\n",
    "\n",
    "**POENG: På dette spørsmålet får du +0.5 poeng per korrekt svar, ingen trekk for blankt eller ukorrekt svar.**\n",
    "\n",
    "Funksjonen **is_ok()** får som argument en streng som er 8 bokstaver lang. Strengen har eksakt to 'R', to 'N', to 'B',en 'K' og en 'Q', men rekkefølgen på bokstavene kan være helt tilfeldig. Funksjonen **is_ok()** skal sjekke om strengen tilfredsstiller to krav:\n",
    "\n",
    "1. K må være ett eller annet sted mellom de to R'ene i strengen\n",
    "2. En av B'ene må stå på odde indeks, den andre på partallsindeks.\n",
    "\n",
    "*(Dette er reglene for oppstilling av brikker i Fischer Random Chess, men **all** relevant info for spørsmålet er gitt over, så kunnskap om sjakk er ikke nødvendig og uten tilleggsverdi her)*\n",
    "\n",
    " \n",
    "\n",
    "Hvis **begge** krav er tilfredsstilt, skal **is_ok()** returnere **True**, ellers **False**.\n",
    "\n",
    "Eksempel på bruk:\n",
    "\n",
    "![Eksempel på kjøring](Screenshot_11.png)\n",
    "\n",
    "**Oppgave: Fyll in det som er tomt i koden under slik at is_ok() virker som forklart.**\n",
    "\n",
    "Funksjonen **str2dic()** er den som ble forklart i forrige oppgave, den får inn en streng og returnerer ei ordbok som viser hvilke tegn som fins i hvilke posisjoner i strengen, f.eks. str2dic('KRRBBQNN') returnerer { 'K' : [0], 'R': [1,2], 'B': [3,4], 'Q': [5], 'N': [6,7] }"
   ]
  },
  {
   "cell_type": "code",
   "execution_count": 15,
   "id": "a6eb0851",
   "metadata": {},
   "outputs": [],
   "source": [
    "def is_ok(st):\n",
    "    D = str2dic(st)\n",
    "    k_ok = D['R'][0] < D['K'][0] < D['R'][1]\n",
    "    b_ok = D['B'][0] % 2 == 0 and D['B'][1] % 2 != 0 or D['B'][0] % 2 != 0 and D['B'][1] % 2 == 0\n",
    "    return k_ok and b_ok"
   ]
  },
  {
   "cell_type": "markdown",
   "id": "0bddd84c",
   "metadata": {},
   "source": [
    "Test:"
   ]
  },
  {
   "cell_type": "code",
   "execution_count": 16,
   "id": "578884d9",
   "metadata": {},
   "outputs": [
    {
     "name": "stdout",
     "output_type": "stream",
     "text": [
      "False\n",
      "False\n",
      "True\n"
     ]
    }
   ],
   "source": [
    "print(is_ok('KRRBBQNN'))\n",
    "print(is_ok('NBNBRKRQ'))\n",
    "print(is_ok('NRQKBBNR'))"
   ]
  },
  {
   "cell_type": "markdown",
   "id": "ce8a5510",
   "metadata": {},
   "source": [
    "# Oppgave 9:  Read text file / Lese tekstfil (7%)\n",
    "\n",
    "Vi har ei tekstfil med informasjon om parti i Fischer Random Chess. Hver linje har info om ett parti, med data separert med semikolon (;).  Et mulig utdrag av ei slik fil er vist her:\n",
    "\n",
    "![Filinnhold](Screenshot_12.png)\n",
    "\n",
    "Vi ønsker en funksjon **file2list(filename)** som skal\n",
    "\n",
    "- lese gjennom ei fil med format som over (men fila kan være mye lenger)\n",
    "- returnere ei liste av lister, der hver indre liste har 7 element (3 string, 2 int, 2 float). Med eksemplet over skal returnert liste være:\n",
    "\n",
    "\n",
    "![Eksempel på kjøring](Screenshot_13.png)\n",
    "\n",
    "Funksjonen skal inkludere unntaksbehandling for ting som kan gå galt under lesing og håndtering av fildata  (f.eks., om fila ikke eksisterer eller har feil format). Noen hint om feil som bør kunne håndteres:\n",
    "\n",
    "- **FileNotFoundError**, skal da printe \"The file with name ... was not found\"\n",
    "- **ValueError** (om data som skal konverteres til int eller float har feil format)\n",
    "- **IndexError** (om ei linje har færre enn 7 element, slik at indeksen går utenfor lovlig verdiområde)\n",
    "\n",
    "For de to siste feilene kan funksjonen printe \"Incorrect format of data on file\". Om en feil inntreffer, skal funksjonen returnere ei tom liste. Om alt går bra, skal funksjonen printe \"Done reading the file.\" før den returnerer lista med data.\n",
    "\n",
    "**Oppgave: Skriv koden for file2list(). For å få full score på denne (7/7 poeng) må unntaksbehandling med. En funksjon uten unntaksbehandling kan i beste fall få 5/7 poeng om ellers korrekt.**"
   ]
  },
  {
   "cell_type": "code",
   "execution_count": 17,
   "id": "579cdf6d",
   "metadata": {},
   "outputs": [],
   "source": [
    "def file2list(filename):\n",
    "    result_list = []\n",
    "    try:\n",
    "        with open(filename, 'r') as f:\n",
    "            for line in f.readlines():\n",
    "                line = line.split(';')\n",
    "                result_list.append([line[0], line[1], line[2], int(line[3]), int(line[4]), float(line[5]), float(line[6])])\n",
    "    except FileNotFoundError:\n",
    "        print(f'The file with name {filename} was not found')\n",
    "        result_list = []\n",
    "    except ValueError:\n",
    "        print('Incorrect format of data on file (ValueError)')\n",
    "        result_list = []\n",
    "    except IndexError:\n",
    "        print('Incorrect format of data on file (IndexError)')\n",
    "        result_list = []\n",
    "    else:\n",
    "        print(\"Done reading the file\")\n",
    "    finally:    \n",
    "        return result_list"
   ]
  },
  {
   "cell_type": "markdown",
   "id": "0a741e5f",
   "metadata": {},
   "source": [
    "Test:"
   ]
  },
  {
   "cell_type": "code",
   "execution_count": 18,
   "id": "cb6314ec",
   "metadata": {},
   "outputs": [
    {
     "name": "stdout",
     "output_type": "stream",
     "text": [
      "Done reading the file\n",
      "[['BBRKQRNN', 'Carlsen', 'Caruana', 20191023, 43, 1.0, 0.0],\n",
      " ['BBRKQRNN', 'So', 'Nepomniachtchi', 20191023, 32, 1.0, 0.0],\n",
      " ['RNKRBQNB', 'Newcombe', 'Wilson', 20182211, 88, 0.5, 0.5],\n",
      " ['BBRQKRNN', 'Douglas', 'Nakamura', 20182211, 12, 1.0, 0.0],\n",
      " ['NBRQKRBN', 'Salah', 'Hegerberg', 20182211, 19, 0.0, 1.0],\n",
      " ['NBRQKRBN', 'DeMorgan', 'Dijkstra', 20182211, 64, 0.5, 0.5]]\n",
      "\n",
      "The file with name sjakkparti2.txt was not found\n",
      "[]\n",
      "\n",
      "Incorrect format of data on file (IndexError)\n",
      "[]\n",
      "\n",
      "Incorrect format of data on file (ValueError)\n",
      "[]\n"
     ]
    }
   ],
   "source": [
    "from pprint import pprint\n",
    "\n",
    "pprint(file2list('sjakkparti.txt'))\n",
    "print()\n",
    "pprint(file2list('sjakkparti2.txt'))\n",
    "print()\n",
    "pprint(file2list('sjakkparti_index_error.txt'))\n",
    "print()\n",
    "pprint(file2list('sjakkparti_value_error.txt'))"
   ]
  },
  {
   "cell_type": "markdown",
   "id": "c6ba2baf",
   "metadata": {},
   "source": [
    "# Oppgave 10:  List to dictionary / Liste til ordbok (5%)\n",
    "**POENG: På dette spørsmålet får du +0.5 poeng per korrekt svar, ingen trekk for blanke eller feil svar.**\n",
    "\n",
    "Funksjonen **list2dic()** mottar som argument ei liste med format som dette:\n",
    "\n",
    "![Listeformat](Screenshot_13.png)\n",
    "\n",
    "Funksjonen skal returnere ei ordbok (dictionary) der de innledende strengene på 8 bokstaver blir nøkler. Med eksemplet over skal den returnerte ordboka bli slik:\n",
    "\n",
    "![Eksempel på kjøring](Screenshot_14.png)\n",
    "\n",
    "Dvs., linjer i lista som begynner med _**samme**_ 8-bokstavers streng, skal settes på *__samme nøkkel i ordboka__*. Verdidelen til hvert innslag i ordboka skal være ei liste av lister. Hvis lista som gis inn som argument, er tom, skal ei tom ordbok (dictionary) bli returnert.\n",
    "\n",
    "\n",
    "**Oppgave: Fyll inn det som er utelatt slik at funksjonen virker som forklart over.**"
   ]
  },
  {
   "cell_type": "code",
   "execution_count": 19,
   "id": "76fcc370",
   "metadata": {},
   "outputs": [],
   "source": [
    "def list2dic(lst):\n",
    "    D = {}\n",
    "    for row in lst:\n",
    "        if row[0] in D.keys():\n",
    "            D[row[0]].append(row[1:])\n",
    "        else:\n",
    "            D[row[0]] = [row[1:]]\n",
    "            \n",
    "    return D"
   ]
  },
  {
   "cell_type": "markdown",
   "id": "d0842755",
   "metadata": {},
   "source": [
    "Test:"
   ]
  },
  {
   "cell_type": "code",
   "execution_count": 20,
   "id": "ecfa2644",
   "metadata": {},
   "outputs": [
    {
     "name": "stdout",
     "output_type": "stream",
     "text": [
      "Done reading the file\n",
      "{'BBRKQRNN': [['Carlsen', 'Caruana', 20191023, 43, 1.0, 0.0],\n",
      "              ['So', 'Nepomniachtchi', 20191023, 32, 1.0, 0.0]],\n",
      " 'BBRQKRNN': [['Douglas', 'Nakamura', 20182211, 12, 1.0, 0.0]],\n",
      " 'NBRQKRBN': [['Salah', 'Hegerberg', 20182211, 19, 0.0, 1.0],\n",
      "              ['DeMorgan', 'Dijkstra', 20182211, 64, 0.5, 0.5]],\n",
      " 'RNKRBQNB': [['Newcombe', 'Wilson', 20182211, 88, 0.5, 0.5]]}\n"
     ]
    }
   ],
   "source": [
    "from pprint import pprint\n",
    "\n",
    "pprint(list2dic(file2list('sjakkparti.txt')))"
   ]
  },
  {
   "cell_type": "markdown",
   "id": "abc16d78",
   "metadata": {},
   "source": [
    "# Oppgave 11:  Polynomledd / Polynomial terms (5%)\n",
    "\n",
    "Funksjonen **poly_part(c, n)** skal ta inn **c** (heltall) og **n** (heltall  0).\n",
    "\n",
    "Den skal returnere en streng for uttrykket **$cx^n$**  i Python-syntaks.\n",
    "\n",
    "Hvis **c** er 0, skal funksjonen returnere en tom streng.\n",
    "\n",
    " \n",
    "\n",
    "![Eksempel på kjøring](Screenshot_15.png)\n",
    "\n",
    "**Oppgave:** *Velg riktig i de seks feltene nedenfor slik at funksjonen virker korrekt.*"
   ]
  },
  {
   "cell_type": "code",
   "execution_count": 21,
   "id": "8b39cfa0",
   "metadata": {},
   "outputs": [],
   "source": [
    "def poly_part(c, n):\n",
    "    result = \"\"\n",
    "    if c != 0:\n",
    "        if n == 0:\n",
    "            result = str(c) \n",
    "        else:\n",
    "            if c == -1:\n",
    "                return \"-x**\" + str(n) \n",
    "            elif c == 1:\n",
    "                result = \"x\"\n",
    "            elif abs(c) > 1:\n",
    "                result = str(c) + \"*x\"\n",
    "            if n > 1:\n",
    "                result += \"**\" + str(n)\n",
    "    return result"
   ]
  },
  {
   "cell_type": "markdown",
   "id": "a76e2405",
   "metadata": {},
   "source": [
    "Test: "
   ]
  },
  {
   "cell_type": "code",
   "execution_count": 22,
   "id": "a09e7731",
   "metadata": {
    "scrolled": true
   },
   "outputs": [
    {
     "name": "stdout",
     "output_type": "stream",
     "text": [
      "3*x**5\n",
      "\n",
      "x**4\n",
      "-3*x**3\n",
      "7\n",
      "4*x\n"
     ]
    }
   ],
   "source": [
    "print(poly_part(3, 5))\n",
    "print(poly_part(0, 2))\n",
    "print(poly_part(1, 4))\n",
    "print(poly_part(-3, 3))\n",
    "print(poly_part(7, 0))\n",
    "print(poly_part(4, 1))"
   ]
  },
  {
   "cell_type": "markdown",
   "id": "a719f173",
   "metadata": {},
   "source": [
    "# Oppgave 12: Lage streng / Make string (5%)\n",
    "\n",
    "Funksjonen **poly_str(lst)** får inn ei liste **lst** med heltall og returnerer en streng i Python-syntaks for et polynomuttrykk. **poly_str()** bruker **poly_part()** som ble beskrevet i forrige oppgave. En kjapp repetisjon av hva poly_part() gjør så du slipper å bla tilbake:\n",
    "\n",
    "- poly_part(3,5) returnerer strengen \"3*x**5\"\n",
    "- poly_part(-1,2) returnerer strengen \"-x**2\"\n",
    "\n",
    "Krav til løsningen:\n",
    "\n",
    "- Ledd som er 0 skal ikke være med i uttrykket (f.eks. ikke ta med \"0*x\").\n",
    "- Tallet 1 skal ikke skrives i utide (f.eks. bare skrive \"x\", ikke \"1*x\").\n",
    "- Potensoperator ** skal bare med for potens  2.\n",
    "\n",
    "Du kan anta at lista som gis inn aldri er tom, og aldri inneholder noe annet enn heltall.\n",
    "\n",
    "Eksempel på kjøring:\n",
    "\n",
    "![Screenshot_4.png](Screenshot_4.png)\n"
   ]
  },
  {
   "cell_type": "code",
   "execution_count": 23,
   "id": "1addb7a1",
   "metadata": {},
   "outputs": [],
   "source": [
    "def poly_str(lst):\n",
    "    result = \"\"\n",
    "    for p in range(len(lst)):\n",
    "        num = lst[-1-p]\n",
    "        if num != 0:\n",
    "            part = poly_part(num, p)\n",
    "            if result == \"\" or result[0] == \"-\":\n",
    "                result = part + result\n",
    "            else:\n",
    "                result = part + \"+\" + result\n",
    "    return result"
   ]
  },
  {
   "cell_type": "code",
   "execution_count": 24,
   "id": "4a333d65",
   "metadata": {},
   "outputs": [
    {
     "name": "stdout",
     "output_type": "stream",
     "text": [
      "-x**6+2*x**5-3*x+7\n",
      "5\n",
      "2*x\n"
     ]
    }
   ],
   "source": [
    "print(poly_str([-1, 2, 0, 0, 0, -3, 7]))\n",
    "print(poly_str([5]))\n",
    "print(poly_str([2, 0]))"
   ]
  },
  {
   "cell_type": "markdown",
   "id": "1101d4f9",
   "metadata": {},
   "source": [
    "# Oppgave 13: Listekonvertering (5%)\n",
    "\n",
    "Anta at vi har en liste med opplysninger om hovedsteder til land i verden, på format som vist i det øverste bildet, hvor hvert element er en streng med flere data separert med semikolon:\n",
    "\n",
    "![Listeformat](Screenshot_16.png)\n",
    "\n",
    "Vi ønsker å lage en funksjon **clean_list()** som tar inn som argument ei liste på formatet over. Funksjonen skal returnere ei liste av lister som vist nedenfor, hvor de ulike elementene er separert, og folketall og prosentandel er vist som henholdsvis heltall og flyttall heller enn som strenger. Prosenttegnet skal fjernes, og vi ønsker heller ikke å beholde det fremste elementet i strengen (som bare viser nummer i rekkefølgen):\n",
    "\n",
    "![Eksempel output](Screenshot_17.png)\n",
    "\n",
    "**Velg riktig alternativ i hver av nedtrekksboksene, slik at clean_list() kommer til å fungere som forutsatt. Funksjonen pop2int() er som forklart i forrige oppgave.**"
   ]
  },
  {
   "cell_type": "code",
   "execution_count": 25,
   "id": "3fe7459f",
   "metadata": {},
   "outputs": [],
   "source": [
    "def pop2int(st):\n",
    "    return int(st.replace(',', '')[0:-3])\n",
    "\n",
    "def clean_list(lst):\n",
    "    result = []\n",
    "    for line in lst:\n",
    "        L = line.split(';')[1:]\n",
    "        L[2] = pop2int(L[2])\n",
    "        L[3] = float(L[3].strip('%'))\n",
    "        result.append(L)\n",
    "    return result"
   ]
  },
  {
   "cell_type": "markdown",
   "id": "1dffe478",
   "metadata": {},
   "source": [
    "Test:"
   ]
  },
  {
   "cell_type": "code",
   "execution_count": 26,
   "id": "bd56d9a4",
   "metadata": {},
   "outputs": [
    {
     "name": "stdout",
     "output_type": "stream",
     "text": [
      "[['China PR', 'Beijing', 20693000, 1.52],\n",
      " ['India', 'New Delhi', 16787949, 1.1],\n",
      " ['Japan', 'Tokyo', 13491000, 10.67]]\n"
     ]
    }
   ],
   "source": [
    "from pprint import pprint\n",
    "\n",
    "pprint(clean_list(['1;China PR;Beijing;20,693,000[1];1.52%', '2;India;New Delhi;16,787,949[2];1.10%', '3;Japan;Tokyo;13,491,000[3];10.67%']))"
   ]
  },
  {
   "cell_type": "markdown",
   "id": "11768c87",
   "metadata": {},
   "source": [
    "# Oppgave 14: Alfabetisk rekkefølge (5%)\n",
    "\n",
    "Vi tenker å lage quiz-spørsmål om hovedsteder som har bokstavene i alfabetisk  rekkefølge, enten fremover eller bakover. Vi ønsker en funksjon **alph_order()** som kan finne ut automatisk om en tekststreng tilfredsstiller et slikt krav. Funksjonen skal returnere\n",
    "\n",
    "- **1** hvis bokstavene i strengen kommer i alfabetisk rekkefølge (f.eks. slik som 'Aalst')\n",
    "- **-1** hvis bokstavene kommer i omvendt alfabetisk rekkefølge (f.eks. slik som 'Riga' eller for den del Riiga siden påfølgende like bokstaver også er ok)\n",
    "- **0** hvis det er verken stigende eller synkende rekkefølge (f.eks. Oslo, London, Beirut)\n",
    "\n",
    "\n",
    "**Velg alternativer fra boksene nedenfor slik at funksjonen alph_order() virker som forutsatt.**"
   ]
  },
  {
   "cell_type": "code",
   "execution_count": 27,
   "id": "5a9a6df3",
   "metadata": {},
   "outputs": [],
   "source": [
    "def alph_order(name):\n",
    "    direction = 0\n",
    "    name = name.lower()\n",
    "    for i in range(1, len(name)):\n",
    "        if name[i] > name[i-1]:\n",
    "            if direction == -1:\n",
    "                return 0\n",
    "            else:\n",
    "                direction = 1\n",
    "        elif name[i]< name[i-1]:\n",
    "            if direction == 1:\n",
    "                return 0\n",
    "            else:\n",
    "                direction = -1\n",
    "    return direction"
   ]
  },
  {
   "cell_type": "markdown",
   "id": "21ad36cb",
   "metadata": {},
   "source": [
    "Test:"
   ]
  },
  {
   "cell_type": "code",
   "execution_count": 28,
   "id": "e64f8016",
   "metadata": {},
   "outputs": [
    {
     "name": "stdout",
     "output_type": "stream",
     "text": [
      "1\n",
      "-1\n",
      "-1\n",
      "0\n",
      "0\n",
      "0\n"
     ]
    }
   ],
   "source": [
    "print(alph_order('Aalst'))\n",
    "print(alph_order('Riga'))\n",
    "print(alph_order('Riiga'))\n",
    "print(alph_order('Oslo'))\n",
    "print(alph_order('London'))\n",
    "print(alph_order('Beirut'))"
   ]
  },
  {
   "cell_type": "markdown",
   "id": "75f98199",
   "metadata": {},
   "source": [
    "# Oppgave 15: Ulike bokstaver (5%)\n",
    "\n",
    "Vi ønsker å lage quiz-spørsmål om hovedsteder hvor byens navn **ikke** har noen bokstaver til felles med landets navn. Gitt ei liste med format som vist nedenfor (hvor hver rad har land, by, folketall i hovedstaden, og hvilken prosentandel dette er av landets folketall), ønsker vi en funksjon **no_common_letters(L)** som tar inn lista som argument, og returnerer ei liste med de landene og hovedstedene som er slik at de ikke har noen felles bokstaver. Hvis L var\n",
    "\n",
    "![Eksempelliste](Screenshot_18.png)\n",
    "\n",
    "skulle kjøring av funksjonen gi følgende resultat:\n",
    "\n",
    "![Eksempel på kjøring](Screenshot_19.png)\n",
    "\n",
    "Husk at funksjonen du programmerer må virke på lenger lister enn den ovenstående, potensielt med alle land i verden. Husk også at små og store bokstaver skal regnes som samme bokstav i testen til denne funksjonen, dvs. det vil **ikke** være korrekt om returnert svar inkluderte ['Greenland', 'Nuuk'] selv om stor N og liten n er ulike ASCII-tegn. Hvis s er en streng, vil s.lower() og s.upper() returnere samme tekst med hhv bare små og bare store bokstaver.\n",
    "\n",
    "**Skriv kode for funksjonen no_common_letters(L) så den virker som angitt**"
   ]
  },
  {
   "cell_type": "code",
   "execution_count": 29,
   "id": "d19ccaef",
   "metadata": {},
   "outputs": [],
   "source": [
    "def no_common_letters(L):\n",
    "    result_lst = []\n",
    "    for country, capital, _, _ in L:\n",
    "        if len(set(country.lower()).intersection(set(capital.lower()))) == 0:\n",
    "               result_lst.append([country, capital])\n",
    "    return result_lst"
   ]
  },
  {
   "cell_type": "markdown",
   "id": "030e1559",
   "metadata": {},
   "source": [
    "Test:"
   ]
  },
  {
   "cell_type": "code",
   "execution_count": 30,
   "id": "cabade2c",
   "metadata": {},
   "outputs": [
    {
     "data": {
      "text/plain": [
       "[['Japan', 'Tokyo'], ['Egypt', 'Cairo']]"
      ]
     },
     "execution_count": 30,
     "metadata": {},
     "output_type": "execute_result"
    }
   ],
   "source": [
    "L = [['China PR','Beijing',20693000,1.52],\n",
    "     ['India','New Delhi',16787949,1.1],\n",
    "     ['Japan', 'Tokyo', 13491000,10.67],\n",
    "     ['Philippines','Manila',12877253,12.8],\n",
    "     ['Russia','Moscow',11541000,8.07],\n",
    "     ['Egypt','Cairo',10230350,11.1]]\n",
    "\n",
    "no_common_letters(L)"
   ]
  },
  {
   "cell_type": "markdown",
   "id": "46c97a6d",
   "metadata": {},
   "source": [
    "# Oppgave 16: Lage dictionary (8%)\n",
    "\n",
    "En type spørsmål vi ønsker å lage i geografiquiz, dreier seg hovedsteder hvor alle bokstavene er ulike. F.eks. vil **'Berlin'** tilfredsstille dette (6 ulike bokstaver), mens **'Oslo'** ikke (bokstaven o forekommer to ganger). Funksjonen **unique_letters()** skal gå gjennom hele lista av hovedsteder, med format som gitt tidligere:\n",
    "\n",
    "![Listeformat](Screenshot_18.png)\n",
    "\n",
    "Den skal finne de hovedstedene som tilfredsstiller kravet (alle bokstaver ulike) og **returnere en dictionary**. Nøkkel i dictionary skal være **antallet bokstaver**, dvs. deler av resultatet (med ei liste som inneholdt alle hovedsteder i verden) ville se ut som følger:\n",
    "\n",
    "{10 : ['Bridgetown'],\n",
    " 7 : ['Algiers', 'Yaoundé', 'Conakry', 'Belfast'],\n",
    " 9 : ['Singapore', 'Bucharest', 'Mogadishu', 'Edinburgh'], \n",
    " ... }\n",
    "\n",
    "Merk at mellomrom, bindestreker og apostrofer (som kan forekomme i noen bynavn) ikke skal telles som bokstaver. Dvs., f.eks. skal **Port Vila** settes i kategorien for 8 bokstaver, ikke 9.\n",
    "\n",
    "Skriv kode for en funksjon unique_letters() som vil ta inn ei liste som vist ovenfor og returnere en dictionary som angitt."
   ]
  },
  {
   "cell_type": "code",
   "execution_count": 31,
   "id": "b95812c0",
   "metadata": {},
   "outputs": [],
   "source": [
    "def unique_letters(lst):\n",
    "    d = {}\n",
    "    for _, capital, _, _ in lst:\n",
    "        capital = capital.strip(\" -'\").lower()\n",
    "        if len(set(capital)) == len(capital):\n",
    "            k = len(capital)\n",
    "            if k in d:\n",
    "                d[k].append(capital.capitalize())\n",
    "            else:\n",
    "                d[k] = [capital.capitalize()]\n",
    "    return d"
   ]
  },
  {
   "cell_type": "markdown",
   "id": "564cef52",
   "metadata": {},
   "source": [
    "Test:"
   ]
  },
  {
   "cell_type": "code",
   "execution_count": 32,
   "id": "f4366316",
   "metadata": {},
   "outputs": [
    {
     "data": {
      "text/plain": [
       "{5: ['Cairo']}"
      ]
     },
     "execution_count": 32,
     "metadata": {},
     "output_type": "execute_result"
    }
   ],
   "source": [
    "L = [['China PR','Beijing',20693000,1.52],\n",
    "     ['India','New Delhi',16787949,1.1],\n",
    "     ['Japan', 'Tokyo', 13491000,10.67],\n",
    "     ['Philippines','Manila',12877253,12.8],\n",
    "     ['Russia','Moscow',11541000,8.07],\n",
    "     ['Egypt','Cairo',10230350,11.1]]\n",
    "\n",
    "unique_letters(L)"
   ]
  },
  {
   "cell_type": "markdown",
   "id": "0f8251dd",
   "metadata": {},
   "source": [
    "# Oppgave 17: Enhetsmatriser / Einingsmatriser / Unit matrices (4%)\n",
    "\n",
    "En enhetsmatrise er en nn-matrise der verdiene på diagonalen er 1 mens øvrige verdier er 0. Representert som en liste av lister i Python kan en 33 enhetsmatrise f.eks. være [ [1, 0, 0], [0, 1, 0], [0, 0, 1] ]. \n",
    "\n",
    "\n",
    "**Oppgave:** Skriv en funksjon **unit_matrix(n)** som returnerer en enhetsmatrise som en liste av lister, og hvor parameteren n angir ønsket størrelse på matrisen. Du kan bruke numpy hvis du vil, men merk at sluttresultatet som returneres fra funksjonen i denne oppgaven skal være en vanlig Python liste av lister, ikke et numpy array, og tallene skal være int, ikke float.\n",
    "\n",
    " \n",
    "\n",
    "Eksempel på kjøring:\n",
    "\n",
    "![Eksempel på kjøring](Screenshot_20.png)"
   ]
  },
  {
   "cell_type": "code",
   "execution_count": 33,
   "id": "2ee93df7",
   "metadata": {},
   "outputs": [],
   "source": [
    "def unit_matrix(n):\n",
    "    matrix = [[0]*n for _ in range(n)]\n",
    "    for i, row in enumerate(matrix):\n",
    "        row[i] = 1\n",
    "    return matrix\n",
    "\n",
    "# Eventuelt\n",
    "def unit_matrix2(n):\n",
    "    matrix = [[0]*n for _ in range(n)]\n",
    "    for i in range(len(matrix)):\n",
    "        matrix[i][i] = 1\n",
    "    return matrix"
   ]
  },
  {
   "cell_type": "markdown",
   "id": "9afa7cca",
   "metadata": {},
   "source": [
    "Test:"
   ]
  },
  {
   "cell_type": "code",
   "execution_count": 34,
   "id": "8079442d",
   "metadata": {},
   "outputs": [
    {
     "name": "stdout",
     "output_type": "stream",
     "text": [
      "0x0 unit matrix\n",
      "[]\n",
      "\n",
      "1x1 unit matrix\n",
      "[[1]]\n",
      "\n",
      "2x2 unit matrix\n",
      "[[1, 0], [0, 1]]\n",
      "\n",
      "3x3 unit matrix\n",
      "[[1, 0, 0], [0, 1, 0], [0, 0, 1]]\n",
      "\n",
      "4x4 unit matrix\n",
      "[[1, 0, 0, 0], [0, 1, 0, 0], [0, 0, 1, 0], [0, 0, 0, 1]]\n",
      "\n",
      "5x5 unit matrix\n",
      "[[1, 0, 0, 0, 0],\n",
      " [0, 1, 0, 0, 0],\n",
      " [0, 0, 1, 0, 0],\n",
      " [0, 0, 0, 1, 0],\n",
      " [0, 0, 0, 0, 1]]\n",
      "\n",
      "6x6 unit matrix\n",
      "[[1, 0, 0, 0, 0, 0],\n",
      " [0, 1, 0, 0, 0, 0],\n",
      " [0, 0, 1, 0, 0, 0],\n",
      " [0, 0, 0, 1, 0, 0],\n",
      " [0, 0, 0, 0, 1, 0],\n",
      " [0, 0, 0, 0, 0, 1]]\n",
      "\n",
      "7x7 unit matrix\n",
      "[[1, 0, 0, 0, 0, 0, 0],\n",
      " [0, 1, 0, 0, 0, 0, 0],\n",
      " [0, 0, 1, 0, 0, 0, 0],\n",
      " [0, 0, 0, 1, 0, 0, 0],\n",
      " [0, 0, 0, 0, 1, 0, 0],\n",
      " [0, 0, 0, 0, 0, 1, 0],\n",
      " [0, 0, 0, 0, 0, 0, 1]]\n",
      "\n",
      "8x8 unit matrix\n",
      "[[1, 0, 0, 0, 0, 0, 0, 0],\n",
      " [0, 1, 0, 0, 0, 0, 0, 0],\n",
      " [0, 0, 1, 0, 0, 0, 0, 0],\n",
      " [0, 0, 0, 1, 0, 0, 0, 0],\n",
      " [0, 0, 0, 0, 1, 0, 0, 0],\n",
      " [0, 0, 0, 0, 0, 1, 0, 0],\n",
      " [0, 0, 0, 0, 0, 0, 1, 0],\n",
      " [0, 0, 0, 0, 0, 0, 0, 1]]\n",
      "\n",
      "9x9 unit matrix\n",
      "[[1, 0, 0, 0, 0, 0, 0, 0, 0],\n",
      " [0, 1, 0, 0, 0, 0, 0, 0, 0],\n",
      " [0, 0, 1, 0, 0, 0, 0, 0, 0],\n",
      " [0, 0, 0, 1, 0, 0, 0, 0, 0],\n",
      " [0, 0, 0, 0, 1, 0, 0, 0, 0],\n",
      " [0, 0, 0, 0, 0, 1, 0, 0, 0],\n",
      " [0, 0, 0, 0, 0, 0, 1, 0, 0],\n",
      " [0, 0, 0, 0, 0, 0, 0, 1, 0],\n",
      " [0, 0, 0, 0, 0, 0, 0, 0, 1]]\n",
      "\n"
     ]
    }
   ],
   "source": [
    "from pprint import pprint\n",
    "\n",
    "for i in range(10):\n",
    "    print(f'{i}x{i} unit matrix')\n",
    "    pprint(unit_matrix(i))\n",
    "    print()"
   ]
  },
  {
   "cell_type": "markdown",
   "id": "9f2d0ab9",
   "metadata": {},
   "source": [
    "# Oppgave 18: Strenglek 1\n",
    "\n",
    "Funksjonen **f(streng)** får inn som parameter en **streng av vilkårlig lengde**. Alle tegn i strengen kan antas å være små bokstaver i det latinske alfabetet, dvs. 'a' - 'z' . Funksjonen skal\n",
    "\n",
    "- returnere 0 hvis strengen har færre enn 3 tegn. \n",
    "- ellers returnere antall forekomster av tegnet 'b' som kommer to indeksposisjoner etter tegnet 'a'\n",
    "  f.eks. '<ins>a</ins>c**b**bcabd<ins>a</ins>a**b**' -> 2 hvor de to tellende b'ene er vist med fet skrift, og de to foregående a'ene som gjør dem tellende, er understreket.\n",
    "  \n",
    "**SKRIV koden din på angitt sted i vinduet under. IKKE endre på forhåndsoppgitt kode!**\n",
    "\n",
    "Test cases:\n",
    "\n",
    "| Test case # | Input       | Forventet output |\n",
    "|-------------|-------------|------------------|\n",
    "| 1           | a | 0               |\n",
    "| 2           | aadd | 0               |\n",
    "| 3           | acbbcabdaab | 2                |\n",
    "| 4           | bbbbaccbbbb            | 0                 |"
   ]
  },
  {
   "cell_type": "code",
   "execution_count": 35,
   "id": "728d74d3",
   "metadata": {},
   "outputs": [],
   "source": [
    "def f(streng):\n",
    "    count = 0\n",
    "    for i in range(len(streng) - 2):\n",
    "        if streng[i] == 'a' and streng[i+2] == 'b':\n",
    "            count += 1\n",
    "    return count"
   ]
  },
  {
   "cell_type": "markdown",
   "id": "1a72a950",
   "metadata": {},
   "source": [
    "Test:"
   ]
  },
  {
   "cell_type": "code",
   "execution_count": 36,
   "id": "86994326",
   "metadata": {},
   "outputs": [
    {
     "name": "stdout",
     "output_type": "stream",
     "text": [
      "0\n",
      "0\n",
      "2\n",
      "0\n"
     ]
    }
   ],
   "source": [
    "print(f('a'))\n",
    "print(f('aadd'))\n",
    "print(f('acbbcabdaab'))\n",
    "print(f('bbbbaccbbbb'))"
   ]
  },
  {
   "cell_type": "markdown",
   "id": "e5c99ce9",
   "metadata": {},
   "source": [
    "# Oppgave 19: Liste med heltall\n",
    "\n",
    "Funksjonen **f(L)** skal motta ei liste L som parameter. Du kan anta at alle element i L er heltall > 0. Det som skal returneres fra f(L) er følgende:\n",
    "\n",
    "- (1 p) Hvis L er tom liste, skal f returnere **tallet 0**\n",
    "- (1 p) Hvis antall element i L er mellom 1 og 4 (fra og med, til og med), skal f returnere **summen av elementene i lista**. F.eks. hvis L er [2,3,5,4] skal f returnere 14 (2+3+5+4)\n",
    "- (2p) Hvis antall element i L er mellom 5 og 8 (fra og med, til og med), skal f returnere summen av de **elementene i lista som er < 10**. F.eks. [2,4,15,4,1] -> 11  (2+4+4+1)\n",
    "- (2p) Hvis antall element i L er mellom 9 og 12 (fra og med, til og med), skal f returnere **tallet for den største stigningen** fra ett element til det neste i lista. F.eks. [2,4,15,4,1,7] -> 11 fordi det største hoppet oppover i verdi er fra 4 til 15 som er 11 opp.\n",
    "- (4p) Hvis antall element i L er større enn 12, skal f returnere lengden på den lengste sekvensen av tall i L som er **strengt stigende** (dvs. hvor L[i+1] > L[i]), samt indeksen til det elementet i lista hvor denne sekvensen påbegynnes. F.eks. [2,4,15,15, 4,1,7,11,13,2,2,3,3,4,4] -> 4, 5 fordi den lengste strengt stigende sekvensen er 1,7,11,13 som er 4 elementer lang og starter på indeks 5. Hvis det er flere slike sekvenser av lik lengde som den lengste, skal man returnere startindeksen for den bakerste av disse. Hvis lista er synkende sortert (dvs. ingen sted lista stiger fra ett tall til det neste), skal man returnere sekvenslengde 1 og indeks til siste element i lista (NB: som positivt tall, ikke som -1).\n",
    "\n",
    "**Skriv koden din på anvist sted. IKKE endre koden som er oppgitt på forhånd!*'\n",
    "\n",
    "Test cases:\n",
    "\n",
    "| Test case # | Input       | Forventet output |\n",
    "|-------------|-------------|------------------|\n",
    "| 1           | [] | 0               |\n",
    "| 2           | [2,3,5,4] | 14               |\n",
    "| 3           | [2,4,15,4,1] | 11                |\n",
    "| 4           | [2,4,15,20,4,1,7,8,1,1,1,2]            | 11                 |\n",
    "| 5           | [2,4,15,15, 4,1,7,11,13,2,2,3,3,4,4]\t| (4, 5)"
   ]
  },
  {
   "cell_type": "code",
   "execution_count": 37,
   "id": "b425c487",
   "metadata": {},
   "outputs": [],
   "source": [
    "def f2(L):\n",
    "    if L == []:\n",
    "        return 0\n",
    "    \n",
    "    lengde = len(L)\n",
    "    if 1 <= lengde <= 4:\n",
    "        return sum(L)\n",
    "    \n",
    "    if 5 <= lengde <= 8:\n",
    "        summ = 0\n",
    "        for elem in L:\n",
    "            if elem < 10:\n",
    "                summ += elem\n",
    "        return summ\n",
    "        # Eventuelt:\n",
    "        # return sum(filter(lambda x: x < 10, L))\n",
    "    if 9 <= lengde <= 12:\n",
    "        rekord = 0\n",
    "        for i in range(len(L) - 1):\n",
    "            if L[i+1] - L[i] > rekord:\n",
    "                rekord = L[i+1] - L[i]\n",
    "        return rekord\n",
    "    \n",
    "    startindex = len(L) - 1\n",
    "    rekordlengde = 0\n",
    "    count = 0\n",
    "    for i in range(len(L) - 1):\n",
    "        if L[i+1] > L[i]:\n",
    "            count += 1\n",
    "            if count == 1:\n",
    "                temp_start_index = i\n",
    "            if count >= rekordlengde:\n",
    "                rekordlengde = count\n",
    "                startindex = temp_start_index\n",
    "        else:\n",
    "            count = 0\n",
    "    return rekordlengde+1, startindex"
   ]
  },
  {
   "cell_type": "markdown",
   "id": "70d6b370",
   "metadata": {},
   "source": [
    "Test:"
   ]
  },
  {
   "cell_type": "code",
   "execution_count": 38,
   "id": "4adfb39a",
   "metadata": {},
   "outputs": [
    {
     "name": "stdout",
     "output_type": "stream",
     "text": [
      "0\n",
      "14\n",
      "11\n",
      "11\n",
      "(4, 5)\n",
      "(9, 15)\n",
      "(4, 15)\n",
      "(1, 14)\n"
     ]
    }
   ],
   "source": [
    "print(f2([]))\n",
    "print(f2([2,3,5,4]))\n",
    "print(f2([2,4,15,4,1]))\n",
    "print(f2([2,4,15,20,4,1,7,8,1,1,1,2]))\n",
    "print(f2([2,4,15,15,4,1,7,11,13,2,2,3,3,4,4]))\n",
    "print(f2([2,4,15,15,4,1,7,11,13,2,2,3,3,4,4, 1,2,3,4,5,6,7,8,9]))\n",
    "print(f2([2,4,15,15,4,1,7,11,13,2,2,3,3,4,4,1,2,3,4]))\n",
    "print(f2([13,12,11,10,9,8,7,6,5,4,3,2,1,0,0]))"
   ]
  }
 ],
 "metadata": {
  "kernelspec": {
   "display_name": "Python 3 (ipykernel)",
   "language": "python",
   "name": "python3"
  },
  "language_info": {
   "codemirror_mode": {
    "name": "ipython",
    "version": 3
   },
   "file_extension": ".py",
   "mimetype": "text/x-python",
   "name": "python",
   "nbconvert_exporter": "python",
   "pygments_lexer": "ipython3",
   "version": "3.9.7"
  }
 },
 "nbformat": 4,
 "nbformat_minor": 5
}
